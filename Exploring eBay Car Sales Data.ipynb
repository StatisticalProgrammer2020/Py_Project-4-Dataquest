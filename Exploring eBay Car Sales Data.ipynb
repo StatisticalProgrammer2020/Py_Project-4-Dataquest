{
 "cells": [
  {
   "cell_type": "markdown",
   "metadata": {
    "collapsed": true
   },
   "source": [
    "## Exploring eBay Car Sales Data\n",
    "\n",
    "This project aims to clean and analyze the eBay Car Sales Data. We'll be using both the pandas and NumPy libraries in order to achieve the objective above.\n",
    "\n",
    "### Loading the data:"
   ]
  },
  {
   "cell_type": "code",
   "execution_count": 1,
   "metadata": {},
   "outputs": [],
   "source": [
    "import pandas as pd\n",
    "import numpy as np"
   ]
  },
  {
   "cell_type": "markdown",
   "metadata": {},
   "source": [
    "### Reading the file:"
   ]
  },
  {
   "cell_type": "code",
   "execution_count": 2,
   "metadata": {},
   "outputs": [],
   "source": [
    "autos = pd.read_csv(\"autos.csv\", index_col = False, encoding = 'Latin-1')"
   ]
  },
  {
   "cell_type": "code",
   "execution_count": 3,
   "metadata": {
    "scrolled": true
   },
   "outputs": [
    {
     "data": {
      "text/html": [
       "<div>\n",
       "<style scoped>\n",
       "    .dataframe tbody tr th:only-of-type {\n",
       "        vertical-align: middle;\n",
       "    }\n",
       "\n",
       "    .dataframe tbody tr th {\n",
       "        vertical-align: top;\n",
       "    }\n",
       "\n",
       "    .dataframe thead th {\n",
       "        text-align: right;\n",
       "    }\n",
       "</style>\n",
       "<table border=\"1\" class=\"dataframe\">\n",
       "  <thead>\n",
       "    <tr style=\"text-align: right;\">\n",
       "      <th></th>\n",
       "      <th>dateCrawled</th>\n",
       "      <th>name</th>\n",
       "      <th>seller</th>\n",
       "      <th>offerType</th>\n",
       "      <th>price</th>\n",
       "      <th>abtest</th>\n",
       "      <th>vehicleType</th>\n",
       "      <th>yearOfRegistration</th>\n",
       "      <th>gearbox</th>\n",
       "      <th>powerPS</th>\n",
       "      <th>model</th>\n",
       "      <th>odometer</th>\n",
       "      <th>monthOfRegistration</th>\n",
       "      <th>fuelType</th>\n",
       "      <th>brand</th>\n",
       "      <th>notRepairedDamage</th>\n",
       "      <th>dateCreated</th>\n",
       "      <th>nrOfPictures</th>\n",
       "      <th>postalCode</th>\n",
       "      <th>lastSeen</th>\n",
       "    </tr>\n",
       "  </thead>\n",
       "  <tbody>\n",
       "    <tr>\n",
       "      <th>0</th>\n",
       "      <td>2016-03-26 17:47:46</td>\n",
       "      <td>Peugeot_807_160_NAVTECH_ON_BOARD</td>\n",
       "      <td>privat</td>\n",
       "      <td>Angebot</td>\n",
       "      <td>$5,000</td>\n",
       "      <td>control</td>\n",
       "      <td>bus</td>\n",
       "      <td>2004</td>\n",
       "      <td>manuell</td>\n",
       "      <td>158</td>\n",
       "      <td>andere</td>\n",
       "      <td>150,000km</td>\n",
       "      <td>3</td>\n",
       "      <td>lpg</td>\n",
       "      <td>peugeot</td>\n",
       "      <td>nein</td>\n",
       "      <td>2016-03-26 00:00:00</td>\n",
       "      <td>0</td>\n",
       "      <td>79588</td>\n",
       "      <td>2016-04-06 06:45:54</td>\n",
       "    </tr>\n",
       "    <tr>\n",
       "      <th>1</th>\n",
       "      <td>2016-04-04 13:38:56</td>\n",
       "      <td>BMW_740i_4_4_Liter_HAMANN_UMBAU_Mega_Optik</td>\n",
       "      <td>privat</td>\n",
       "      <td>Angebot</td>\n",
       "      <td>$8,500</td>\n",
       "      <td>control</td>\n",
       "      <td>limousine</td>\n",
       "      <td>1997</td>\n",
       "      <td>automatik</td>\n",
       "      <td>286</td>\n",
       "      <td>7er</td>\n",
       "      <td>150,000km</td>\n",
       "      <td>6</td>\n",
       "      <td>benzin</td>\n",
       "      <td>bmw</td>\n",
       "      <td>nein</td>\n",
       "      <td>2016-04-04 00:00:00</td>\n",
       "      <td>0</td>\n",
       "      <td>71034</td>\n",
       "      <td>2016-04-06 14:45:08</td>\n",
       "    </tr>\n",
       "    <tr>\n",
       "      <th>2</th>\n",
       "      <td>2016-03-26 18:57:24</td>\n",
       "      <td>Volkswagen_Golf_1.6_United</td>\n",
       "      <td>privat</td>\n",
       "      <td>Angebot</td>\n",
       "      <td>$8,990</td>\n",
       "      <td>test</td>\n",
       "      <td>limousine</td>\n",
       "      <td>2009</td>\n",
       "      <td>manuell</td>\n",
       "      <td>102</td>\n",
       "      <td>golf</td>\n",
       "      <td>70,000km</td>\n",
       "      <td>7</td>\n",
       "      <td>benzin</td>\n",
       "      <td>volkswagen</td>\n",
       "      <td>nein</td>\n",
       "      <td>2016-03-26 00:00:00</td>\n",
       "      <td>0</td>\n",
       "      <td>35394</td>\n",
       "      <td>2016-04-06 20:15:37</td>\n",
       "    </tr>\n",
       "    <tr>\n",
       "      <th>3</th>\n",
       "      <td>2016-03-12 16:58:10</td>\n",
       "      <td>Smart_smart_fortwo_coupe_softouch/F1/Klima/Pan...</td>\n",
       "      <td>privat</td>\n",
       "      <td>Angebot</td>\n",
       "      <td>$4,350</td>\n",
       "      <td>control</td>\n",
       "      <td>kleinwagen</td>\n",
       "      <td>2007</td>\n",
       "      <td>automatik</td>\n",
       "      <td>71</td>\n",
       "      <td>fortwo</td>\n",
       "      <td>70,000km</td>\n",
       "      <td>6</td>\n",
       "      <td>benzin</td>\n",
       "      <td>smart</td>\n",
       "      <td>nein</td>\n",
       "      <td>2016-03-12 00:00:00</td>\n",
       "      <td>0</td>\n",
       "      <td>33729</td>\n",
       "      <td>2016-03-15 03:16:28</td>\n",
       "    </tr>\n",
       "    <tr>\n",
       "      <th>4</th>\n",
       "      <td>2016-04-01 14:38:50</td>\n",
       "      <td>Ford_Focus_1_6_Benzin_TÜV_neu_ist_sehr_gepfleg...</td>\n",
       "      <td>privat</td>\n",
       "      <td>Angebot</td>\n",
       "      <td>$1,350</td>\n",
       "      <td>test</td>\n",
       "      <td>kombi</td>\n",
       "      <td>2003</td>\n",
       "      <td>manuell</td>\n",
       "      <td>0</td>\n",
       "      <td>focus</td>\n",
       "      <td>150,000km</td>\n",
       "      <td>7</td>\n",
       "      <td>benzin</td>\n",
       "      <td>ford</td>\n",
       "      <td>nein</td>\n",
       "      <td>2016-04-01 00:00:00</td>\n",
       "      <td>0</td>\n",
       "      <td>39218</td>\n",
       "      <td>2016-04-01 14:38:50</td>\n",
       "    </tr>\n",
       "    <tr>\n",
       "      <th>...</th>\n",
       "      <td>...</td>\n",
       "      <td>...</td>\n",
       "      <td>...</td>\n",
       "      <td>...</td>\n",
       "      <td>...</td>\n",
       "      <td>...</td>\n",
       "      <td>...</td>\n",
       "      <td>...</td>\n",
       "      <td>...</td>\n",
       "      <td>...</td>\n",
       "      <td>...</td>\n",
       "      <td>...</td>\n",
       "      <td>...</td>\n",
       "      <td>...</td>\n",
       "      <td>...</td>\n",
       "      <td>...</td>\n",
       "      <td>...</td>\n",
       "      <td>...</td>\n",
       "      <td>...</td>\n",
       "      <td>...</td>\n",
       "    </tr>\n",
       "    <tr>\n",
       "      <th>49995</th>\n",
       "      <td>2016-03-27 14:38:19</td>\n",
       "      <td>Audi_Q5_3.0_TDI_qu._S_tr.__Navi__Panorama__Xenon</td>\n",
       "      <td>privat</td>\n",
       "      <td>Angebot</td>\n",
       "      <td>$24,900</td>\n",
       "      <td>control</td>\n",
       "      <td>limousine</td>\n",
       "      <td>2011</td>\n",
       "      <td>automatik</td>\n",
       "      <td>239</td>\n",
       "      <td>q5</td>\n",
       "      <td>100,000km</td>\n",
       "      <td>1</td>\n",
       "      <td>diesel</td>\n",
       "      <td>audi</td>\n",
       "      <td>nein</td>\n",
       "      <td>2016-03-27 00:00:00</td>\n",
       "      <td>0</td>\n",
       "      <td>82131</td>\n",
       "      <td>2016-04-01 13:47:40</td>\n",
       "    </tr>\n",
       "    <tr>\n",
       "      <th>49996</th>\n",
       "      <td>2016-03-28 10:50:25</td>\n",
       "      <td>Opel_Astra_F_Cabrio_Bertone_Edition___TÜV_neu+...</td>\n",
       "      <td>privat</td>\n",
       "      <td>Angebot</td>\n",
       "      <td>$1,980</td>\n",
       "      <td>control</td>\n",
       "      <td>cabrio</td>\n",
       "      <td>1996</td>\n",
       "      <td>manuell</td>\n",
       "      <td>75</td>\n",
       "      <td>astra</td>\n",
       "      <td>150,000km</td>\n",
       "      <td>5</td>\n",
       "      <td>benzin</td>\n",
       "      <td>opel</td>\n",
       "      <td>nein</td>\n",
       "      <td>2016-03-28 00:00:00</td>\n",
       "      <td>0</td>\n",
       "      <td>44807</td>\n",
       "      <td>2016-04-02 14:18:02</td>\n",
       "    </tr>\n",
       "    <tr>\n",
       "      <th>49997</th>\n",
       "      <td>2016-04-02 14:44:48</td>\n",
       "      <td>Fiat_500_C_1.2_Dualogic_Lounge</td>\n",
       "      <td>privat</td>\n",
       "      <td>Angebot</td>\n",
       "      <td>$13,200</td>\n",
       "      <td>test</td>\n",
       "      <td>cabrio</td>\n",
       "      <td>2014</td>\n",
       "      <td>automatik</td>\n",
       "      <td>69</td>\n",
       "      <td>500</td>\n",
       "      <td>5,000km</td>\n",
       "      <td>11</td>\n",
       "      <td>benzin</td>\n",
       "      <td>fiat</td>\n",
       "      <td>nein</td>\n",
       "      <td>2016-04-02 00:00:00</td>\n",
       "      <td>0</td>\n",
       "      <td>73430</td>\n",
       "      <td>2016-04-04 11:47:27</td>\n",
       "    </tr>\n",
       "    <tr>\n",
       "      <th>49998</th>\n",
       "      <td>2016-03-08 19:25:42</td>\n",
       "      <td>Audi_A3_2.0_TDI_Sportback_Ambition</td>\n",
       "      <td>privat</td>\n",
       "      <td>Angebot</td>\n",
       "      <td>$22,900</td>\n",
       "      <td>control</td>\n",
       "      <td>kombi</td>\n",
       "      <td>2013</td>\n",
       "      <td>manuell</td>\n",
       "      <td>150</td>\n",
       "      <td>a3</td>\n",
       "      <td>40,000km</td>\n",
       "      <td>11</td>\n",
       "      <td>diesel</td>\n",
       "      <td>audi</td>\n",
       "      <td>nein</td>\n",
       "      <td>2016-03-08 00:00:00</td>\n",
       "      <td>0</td>\n",
       "      <td>35683</td>\n",
       "      <td>2016-04-05 16:45:07</td>\n",
       "    </tr>\n",
       "    <tr>\n",
       "      <th>49999</th>\n",
       "      <td>2016-03-14 00:42:12</td>\n",
       "      <td>Opel_Vectra_1.6_16V</td>\n",
       "      <td>privat</td>\n",
       "      <td>Angebot</td>\n",
       "      <td>$1,250</td>\n",
       "      <td>control</td>\n",
       "      <td>limousine</td>\n",
       "      <td>1996</td>\n",
       "      <td>manuell</td>\n",
       "      <td>101</td>\n",
       "      <td>vectra</td>\n",
       "      <td>150,000km</td>\n",
       "      <td>1</td>\n",
       "      <td>benzin</td>\n",
       "      <td>opel</td>\n",
       "      <td>nein</td>\n",
       "      <td>2016-03-13 00:00:00</td>\n",
       "      <td>0</td>\n",
       "      <td>45897</td>\n",
       "      <td>2016-04-06 21:18:48</td>\n",
       "    </tr>\n",
       "  </tbody>\n",
       "</table>\n",
       "<p>50000 rows × 20 columns</p>\n",
       "</div>"
      ],
      "text/plain": [
       "               dateCrawled                                               name  \\\n",
       "0      2016-03-26 17:47:46                   Peugeot_807_160_NAVTECH_ON_BOARD   \n",
       "1      2016-04-04 13:38:56         BMW_740i_4_4_Liter_HAMANN_UMBAU_Mega_Optik   \n",
       "2      2016-03-26 18:57:24                         Volkswagen_Golf_1.6_United   \n",
       "3      2016-03-12 16:58:10  Smart_smart_fortwo_coupe_softouch/F1/Klima/Pan...   \n",
       "4      2016-04-01 14:38:50  Ford_Focus_1_6_Benzin_TÜV_neu_ist_sehr_gepfleg...   \n",
       "...                    ...                                                ...   \n",
       "49995  2016-03-27 14:38:19   Audi_Q5_3.0_TDI_qu._S_tr.__Navi__Panorama__Xenon   \n",
       "49996  2016-03-28 10:50:25  Opel_Astra_F_Cabrio_Bertone_Edition___TÜV_neu+...   \n",
       "49997  2016-04-02 14:44:48                     Fiat_500_C_1.2_Dualogic_Lounge   \n",
       "49998  2016-03-08 19:25:42                 Audi_A3_2.0_TDI_Sportback_Ambition   \n",
       "49999  2016-03-14 00:42:12                                Opel_Vectra_1.6_16V   \n",
       "\n",
       "       seller offerType    price   abtest vehicleType  yearOfRegistration  \\\n",
       "0      privat   Angebot   $5,000  control         bus                2004   \n",
       "1      privat   Angebot   $8,500  control   limousine                1997   \n",
       "2      privat   Angebot   $8,990     test   limousine                2009   \n",
       "3      privat   Angebot   $4,350  control  kleinwagen                2007   \n",
       "4      privat   Angebot   $1,350     test       kombi                2003   \n",
       "...       ...       ...      ...      ...         ...                 ...   \n",
       "49995  privat   Angebot  $24,900  control   limousine                2011   \n",
       "49996  privat   Angebot   $1,980  control      cabrio                1996   \n",
       "49997  privat   Angebot  $13,200     test      cabrio                2014   \n",
       "49998  privat   Angebot  $22,900  control       kombi                2013   \n",
       "49999  privat   Angebot   $1,250  control   limousine                1996   \n",
       "\n",
       "         gearbox  powerPS   model   odometer  monthOfRegistration fuelType  \\\n",
       "0        manuell      158  andere  150,000km                    3      lpg   \n",
       "1      automatik      286     7er  150,000km                    6   benzin   \n",
       "2        manuell      102    golf   70,000km                    7   benzin   \n",
       "3      automatik       71  fortwo   70,000km                    6   benzin   \n",
       "4        manuell        0   focus  150,000km                    7   benzin   \n",
       "...          ...      ...     ...        ...                  ...      ...   \n",
       "49995  automatik      239      q5  100,000km                    1   diesel   \n",
       "49996    manuell       75   astra  150,000km                    5   benzin   \n",
       "49997  automatik       69     500    5,000km                   11   benzin   \n",
       "49998    manuell      150      a3   40,000km                   11   diesel   \n",
       "49999    manuell      101  vectra  150,000km                    1   benzin   \n",
       "\n",
       "            brand notRepairedDamage          dateCreated  nrOfPictures  \\\n",
       "0         peugeot              nein  2016-03-26 00:00:00             0   \n",
       "1             bmw              nein  2016-04-04 00:00:00             0   \n",
       "2      volkswagen              nein  2016-03-26 00:00:00             0   \n",
       "3           smart              nein  2016-03-12 00:00:00             0   \n",
       "4            ford              nein  2016-04-01 00:00:00             0   \n",
       "...           ...               ...                  ...           ...   \n",
       "49995        audi              nein  2016-03-27 00:00:00             0   \n",
       "49996        opel              nein  2016-03-28 00:00:00             0   \n",
       "49997        fiat              nein  2016-04-02 00:00:00             0   \n",
       "49998        audi              nein  2016-03-08 00:00:00             0   \n",
       "49999        opel              nein  2016-03-13 00:00:00             0   \n",
       "\n",
       "       postalCode             lastSeen  \n",
       "0           79588  2016-04-06 06:45:54  \n",
       "1           71034  2016-04-06 14:45:08  \n",
       "2           35394  2016-04-06 20:15:37  \n",
       "3           33729  2016-03-15 03:16:28  \n",
       "4           39218  2016-04-01 14:38:50  \n",
       "...           ...                  ...  \n",
       "49995       82131  2016-04-01 13:47:40  \n",
       "49996       44807  2016-04-02 14:18:02  \n",
       "49997       73430  2016-04-04 11:47:27  \n",
       "49998       35683  2016-04-05 16:45:07  \n",
       "49999       45897  2016-04-06 21:18:48  \n",
       "\n",
       "[50000 rows x 20 columns]"
      ]
     },
     "execution_count": 3,
     "metadata": {},
     "output_type": "execute_result"
    }
   ],
   "source": [
    "autos # prints the head and tail of the autos dataframe"
   ]
  },
  {
   "cell_type": "markdown",
   "metadata": {},
   "source": [
    "The autos dataframe contains 50,000 rows and 19 columns.Of the mentioned columns, 5 of them are numeric, whereas the rest are non-numeric columns. \n",
    "\n",
    "The following columns were found to have missing data:\n",
    "- vehicleType\n",
    "- gearbox\n",
    "- model\n",
    "- fuelType\n",
    "- notRepairedDamage\n",
    "\n",
    "Column names are also observed to be in camelcase instead of snakecase. Thus, we'll be modifying the column names in the following section."
   ]
  },
  {
   "cell_type": "code",
   "execution_count": 4,
   "metadata": {
    "scrolled": true
   },
   "outputs": [
    {
     "name": "stdout",
     "output_type": "stream",
     "text": [
      "<class 'pandas.core.frame.DataFrame'>\n",
      "RangeIndex: 50000 entries, 0 to 49999\n",
      "Data columns (total 20 columns):\n",
      " #   Column               Non-Null Count  Dtype \n",
      "---  ------               --------------  ----- \n",
      " 0   dateCrawled          50000 non-null  object\n",
      " 1   name                 50000 non-null  object\n",
      " 2   seller               50000 non-null  object\n",
      " 3   offerType            50000 non-null  object\n",
      " 4   price                50000 non-null  object\n",
      " 5   abtest               50000 non-null  object\n",
      " 6   vehicleType          44905 non-null  object\n",
      " 7   yearOfRegistration   50000 non-null  int64 \n",
      " 8   gearbox              47320 non-null  object\n",
      " 9   powerPS              50000 non-null  int64 \n",
      " 10  model                47242 non-null  object\n",
      " 11  odometer             50000 non-null  object\n",
      " 12  monthOfRegistration  50000 non-null  int64 \n",
      " 13  fuelType             45518 non-null  object\n",
      " 14  brand                50000 non-null  object\n",
      " 15  notRepairedDamage    40171 non-null  object\n",
      " 16  dateCreated          50000 non-null  object\n",
      " 17  nrOfPictures         50000 non-null  int64 \n",
      " 18  postalCode           50000 non-null  int64 \n",
      " 19  lastSeen             50000 non-null  object\n",
      "dtypes: int64(5), object(15)\n",
      "memory usage: 7.6+ MB\n"
     ]
    }
   ],
   "source": [
    "autos.info()"
   ]
  },
  {
   "cell_type": "markdown",
   "metadata": {},
   "source": [
    "Here are the first five rows of the autos dataframe:"
   ]
  },
  {
   "cell_type": "code",
   "execution_count": 5,
   "metadata": {
    "scrolled": true
   },
   "outputs": [
    {
     "data": {
      "text/html": [
       "<div>\n",
       "<style scoped>\n",
       "    .dataframe tbody tr th:only-of-type {\n",
       "        vertical-align: middle;\n",
       "    }\n",
       "\n",
       "    .dataframe tbody tr th {\n",
       "        vertical-align: top;\n",
       "    }\n",
       "\n",
       "    .dataframe thead th {\n",
       "        text-align: right;\n",
       "    }\n",
       "</style>\n",
       "<table border=\"1\" class=\"dataframe\">\n",
       "  <thead>\n",
       "    <tr style=\"text-align: right;\">\n",
       "      <th></th>\n",
       "      <th>dateCrawled</th>\n",
       "      <th>name</th>\n",
       "      <th>seller</th>\n",
       "      <th>offerType</th>\n",
       "      <th>price</th>\n",
       "      <th>abtest</th>\n",
       "      <th>vehicleType</th>\n",
       "      <th>yearOfRegistration</th>\n",
       "      <th>gearbox</th>\n",
       "      <th>powerPS</th>\n",
       "      <th>model</th>\n",
       "      <th>odometer</th>\n",
       "      <th>monthOfRegistration</th>\n",
       "      <th>fuelType</th>\n",
       "      <th>brand</th>\n",
       "      <th>notRepairedDamage</th>\n",
       "      <th>dateCreated</th>\n",
       "      <th>nrOfPictures</th>\n",
       "      <th>postalCode</th>\n",
       "      <th>lastSeen</th>\n",
       "    </tr>\n",
       "  </thead>\n",
       "  <tbody>\n",
       "    <tr>\n",
       "      <th>0</th>\n",
       "      <td>2016-03-26 17:47:46</td>\n",
       "      <td>Peugeot_807_160_NAVTECH_ON_BOARD</td>\n",
       "      <td>privat</td>\n",
       "      <td>Angebot</td>\n",
       "      <td>$5,000</td>\n",
       "      <td>control</td>\n",
       "      <td>bus</td>\n",
       "      <td>2004</td>\n",
       "      <td>manuell</td>\n",
       "      <td>158</td>\n",
       "      <td>andere</td>\n",
       "      <td>150,000km</td>\n",
       "      <td>3</td>\n",
       "      <td>lpg</td>\n",
       "      <td>peugeot</td>\n",
       "      <td>nein</td>\n",
       "      <td>2016-03-26 00:00:00</td>\n",
       "      <td>0</td>\n",
       "      <td>79588</td>\n",
       "      <td>2016-04-06 06:45:54</td>\n",
       "    </tr>\n",
       "    <tr>\n",
       "      <th>1</th>\n",
       "      <td>2016-04-04 13:38:56</td>\n",
       "      <td>BMW_740i_4_4_Liter_HAMANN_UMBAU_Mega_Optik</td>\n",
       "      <td>privat</td>\n",
       "      <td>Angebot</td>\n",
       "      <td>$8,500</td>\n",
       "      <td>control</td>\n",
       "      <td>limousine</td>\n",
       "      <td>1997</td>\n",
       "      <td>automatik</td>\n",
       "      <td>286</td>\n",
       "      <td>7er</td>\n",
       "      <td>150,000km</td>\n",
       "      <td>6</td>\n",
       "      <td>benzin</td>\n",
       "      <td>bmw</td>\n",
       "      <td>nein</td>\n",
       "      <td>2016-04-04 00:00:00</td>\n",
       "      <td>0</td>\n",
       "      <td>71034</td>\n",
       "      <td>2016-04-06 14:45:08</td>\n",
       "    </tr>\n",
       "    <tr>\n",
       "      <th>2</th>\n",
       "      <td>2016-03-26 18:57:24</td>\n",
       "      <td>Volkswagen_Golf_1.6_United</td>\n",
       "      <td>privat</td>\n",
       "      <td>Angebot</td>\n",
       "      <td>$8,990</td>\n",
       "      <td>test</td>\n",
       "      <td>limousine</td>\n",
       "      <td>2009</td>\n",
       "      <td>manuell</td>\n",
       "      <td>102</td>\n",
       "      <td>golf</td>\n",
       "      <td>70,000km</td>\n",
       "      <td>7</td>\n",
       "      <td>benzin</td>\n",
       "      <td>volkswagen</td>\n",
       "      <td>nein</td>\n",
       "      <td>2016-03-26 00:00:00</td>\n",
       "      <td>0</td>\n",
       "      <td>35394</td>\n",
       "      <td>2016-04-06 20:15:37</td>\n",
       "    </tr>\n",
       "    <tr>\n",
       "      <th>3</th>\n",
       "      <td>2016-03-12 16:58:10</td>\n",
       "      <td>Smart_smart_fortwo_coupe_softouch/F1/Klima/Pan...</td>\n",
       "      <td>privat</td>\n",
       "      <td>Angebot</td>\n",
       "      <td>$4,350</td>\n",
       "      <td>control</td>\n",
       "      <td>kleinwagen</td>\n",
       "      <td>2007</td>\n",
       "      <td>automatik</td>\n",
       "      <td>71</td>\n",
       "      <td>fortwo</td>\n",
       "      <td>70,000km</td>\n",
       "      <td>6</td>\n",
       "      <td>benzin</td>\n",
       "      <td>smart</td>\n",
       "      <td>nein</td>\n",
       "      <td>2016-03-12 00:00:00</td>\n",
       "      <td>0</td>\n",
       "      <td>33729</td>\n",
       "      <td>2016-03-15 03:16:28</td>\n",
       "    </tr>\n",
       "    <tr>\n",
       "      <th>4</th>\n",
       "      <td>2016-04-01 14:38:50</td>\n",
       "      <td>Ford_Focus_1_6_Benzin_TÜV_neu_ist_sehr_gepfleg...</td>\n",
       "      <td>privat</td>\n",
       "      <td>Angebot</td>\n",
       "      <td>$1,350</td>\n",
       "      <td>test</td>\n",
       "      <td>kombi</td>\n",
       "      <td>2003</td>\n",
       "      <td>manuell</td>\n",
       "      <td>0</td>\n",
       "      <td>focus</td>\n",
       "      <td>150,000km</td>\n",
       "      <td>7</td>\n",
       "      <td>benzin</td>\n",
       "      <td>ford</td>\n",
       "      <td>nein</td>\n",
       "      <td>2016-04-01 00:00:00</td>\n",
       "      <td>0</td>\n",
       "      <td>39218</td>\n",
       "      <td>2016-04-01 14:38:50</td>\n",
       "    </tr>\n",
       "  </tbody>\n",
       "</table>\n",
       "</div>"
      ],
      "text/plain": [
       "           dateCrawled                                               name  \\\n",
       "0  2016-03-26 17:47:46                   Peugeot_807_160_NAVTECH_ON_BOARD   \n",
       "1  2016-04-04 13:38:56         BMW_740i_4_4_Liter_HAMANN_UMBAU_Mega_Optik   \n",
       "2  2016-03-26 18:57:24                         Volkswagen_Golf_1.6_United   \n",
       "3  2016-03-12 16:58:10  Smart_smart_fortwo_coupe_softouch/F1/Klima/Pan...   \n",
       "4  2016-04-01 14:38:50  Ford_Focus_1_6_Benzin_TÜV_neu_ist_sehr_gepfleg...   \n",
       "\n",
       "   seller offerType   price   abtest vehicleType  yearOfRegistration  \\\n",
       "0  privat   Angebot  $5,000  control         bus                2004   \n",
       "1  privat   Angebot  $8,500  control   limousine                1997   \n",
       "2  privat   Angebot  $8,990     test   limousine                2009   \n",
       "3  privat   Angebot  $4,350  control  kleinwagen                2007   \n",
       "4  privat   Angebot  $1,350     test       kombi                2003   \n",
       "\n",
       "     gearbox  powerPS   model   odometer  monthOfRegistration fuelType  \\\n",
       "0    manuell      158  andere  150,000km                    3      lpg   \n",
       "1  automatik      286     7er  150,000km                    6   benzin   \n",
       "2    manuell      102    golf   70,000km                    7   benzin   \n",
       "3  automatik       71  fortwo   70,000km                    6   benzin   \n",
       "4    manuell        0   focus  150,000km                    7   benzin   \n",
       "\n",
       "        brand notRepairedDamage          dateCreated  nrOfPictures  \\\n",
       "0     peugeot              nein  2016-03-26 00:00:00             0   \n",
       "1         bmw              nein  2016-04-04 00:00:00             0   \n",
       "2  volkswagen              nein  2016-03-26 00:00:00             0   \n",
       "3       smart              nein  2016-03-12 00:00:00             0   \n",
       "4        ford              nein  2016-04-01 00:00:00             0   \n",
       "\n",
       "   postalCode             lastSeen  \n",
       "0       79588  2016-04-06 06:45:54  \n",
       "1       71034  2016-04-06 14:45:08  \n",
       "2       35394  2016-04-06 20:15:37  \n",
       "3       33729  2016-03-15 03:16:28  \n",
       "4       39218  2016-04-01 14:38:50  "
      ]
     },
     "execution_count": 5,
     "metadata": {},
     "output_type": "execute_result"
    }
   ],
   "source": [
    "autos.head(5)"
   ]
  },
  {
   "cell_type": "markdown",
   "metadata": {},
   "source": [
    "### Modifying the column names\n",
    "\n",
    "Variable names can be difficult to read when it is in camelcase since there is no separation in each word. Thus, for this dataframe, we'll be implementing the snakecase for each columnname in order to improve the readability of the variables."
   ]
  },
  {
   "cell_type": "code",
   "execution_count": 6,
   "metadata": {},
   "outputs": [
    {
     "data": {
      "text/plain": [
       "Index(['dateCrawled', 'name', 'seller', 'offerType', 'price', 'abtest',\n",
       "       'vehicleType', 'yearOfRegistration', 'gearbox', 'powerPS', 'model',\n",
       "       'odometer', 'monthOfRegistration', 'fuelType', 'brand',\n",
       "       'notRepairedDamage', 'dateCreated', 'nrOfPictures', 'postalCode',\n",
       "       'lastSeen'],\n",
       "      dtype='object')"
      ]
     },
     "execution_count": 6,
     "metadata": {},
     "output_type": "execute_result"
    }
   ],
   "source": [
    "autos.columns # Print first the original columns"
   ]
  },
  {
   "cell_type": "markdown",
   "metadata": {},
   "source": [
    "Create modified names in snakecase:"
   ]
  },
  {
   "cell_type": "code",
   "execution_count": 7,
   "metadata": {},
   "outputs": [],
   "source": [
    "snakecase_cols = np.array(['date_crawled', 'name', 'seller', 'offer_type', 'price', 'abtest', 'vehicle_type',\n",
    "       'registration_year', 'gearbox', 'power_in_ps', 'model', 'odometer',\n",
    "       'registration_month', 'fuel_type', 'brand', 'unrepaired_damage',\n",
    "       'ad_created', 'number_of_pictures', 'postal_code', 'last_seen'])"
   ]
  },
  {
   "cell_type": "code",
   "execution_count": 8,
   "metadata": {},
   "outputs": [],
   "source": [
    "autos.columns = snakecase_cols # re-assign modified column names"
   ]
  },
  {
   "cell_type": "markdown",
   "metadata": {},
   "source": [
    "To verify the output:"
   ]
  },
  {
   "cell_type": "code",
   "execution_count": 9,
   "metadata": {
    "scrolled": false
   },
   "outputs": [
    {
     "data": {
      "text/html": [
       "<div>\n",
       "<style scoped>\n",
       "    .dataframe tbody tr th:only-of-type {\n",
       "        vertical-align: middle;\n",
       "    }\n",
       "\n",
       "    .dataframe tbody tr th {\n",
       "        vertical-align: top;\n",
       "    }\n",
       "\n",
       "    .dataframe thead th {\n",
       "        text-align: right;\n",
       "    }\n",
       "</style>\n",
       "<table border=\"1\" class=\"dataframe\">\n",
       "  <thead>\n",
       "    <tr style=\"text-align: right;\">\n",
       "      <th></th>\n",
       "      <th>date_crawled</th>\n",
       "      <th>name</th>\n",
       "      <th>seller</th>\n",
       "      <th>offer_type</th>\n",
       "      <th>price</th>\n",
       "      <th>abtest</th>\n",
       "      <th>vehicle_type</th>\n",
       "      <th>registration_year</th>\n",
       "      <th>gearbox</th>\n",
       "      <th>power_in_ps</th>\n",
       "      <th>model</th>\n",
       "      <th>odometer</th>\n",
       "      <th>registration_month</th>\n",
       "      <th>fuel_type</th>\n",
       "      <th>brand</th>\n",
       "      <th>unrepaired_damage</th>\n",
       "      <th>ad_created</th>\n",
       "      <th>number_of_pictures</th>\n",
       "      <th>postal_code</th>\n",
       "      <th>last_seen</th>\n",
       "    </tr>\n",
       "  </thead>\n",
       "  <tbody>\n",
       "    <tr>\n",
       "      <th>0</th>\n",
       "      <td>2016-03-26 17:47:46</td>\n",
       "      <td>Peugeot_807_160_NAVTECH_ON_BOARD</td>\n",
       "      <td>privat</td>\n",
       "      <td>Angebot</td>\n",
       "      <td>$5,000</td>\n",
       "      <td>control</td>\n",
       "      <td>bus</td>\n",
       "      <td>2004</td>\n",
       "      <td>manuell</td>\n",
       "      <td>158</td>\n",
       "      <td>andere</td>\n",
       "      <td>150,000km</td>\n",
       "      <td>3</td>\n",
       "      <td>lpg</td>\n",
       "      <td>peugeot</td>\n",
       "      <td>nein</td>\n",
       "      <td>2016-03-26 00:00:00</td>\n",
       "      <td>0</td>\n",
       "      <td>79588</td>\n",
       "      <td>2016-04-06 06:45:54</td>\n",
       "    </tr>\n",
       "    <tr>\n",
       "      <th>1</th>\n",
       "      <td>2016-04-04 13:38:56</td>\n",
       "      <td>BMW_740i_4_4_Liter_HAMANN_UMBAU_Mega_Optik</td>\n",
       "      <td>privat</td>\n",
       "      <td>Angebot</td>\n",
       "      <td>$8,500</td>\n",
       "      <td>control</td>\n",
       "      <td>limousine</td>\n",
       "      <td>1997</td>\n",
       "      <td>automatik</td>\n",
       "      <td>286</td>\n",
       "      <td>7er</td>\n",
       "      <td>150,000km</td>\n",
       "      <td>6</td>\n",
       "      <td>benzin</td>\n",
       "      <td>bmw</td>\n",
       "      <td>nein</td>\n",
       "      <td>2016-04-04 00:00:00</td>\n",
       "      <td>0</td>\n",
       "      <td>71034</td>\n",
       "      <td>2016-04-06 14:45:08</td>\n",
       "    </tr>\n",
       "    <tr>\n",
       "      <th>2</th>\n",
       "      <td>2016-03-26 18:57:24</td>\n",
       "      <td>Volkswagen_Golf_1.6_United</td>\n",
       "      <td>privat</td>\n",
       "      <td>Angebot</td>\n",
       "      <td>$8,990</td>\n",
       "      <td>test</td>\n",
       "      <td>limousine</td>\n",
       "      <td>2009</td>\n",
       "      <td>manuell</td>\n",
       "      <td>102</td>\n",
       "      <td>golf</td>\n",
       "      <td>70,000km</td>\n",
       "      <td>7</td>\n",
       "      <td>benzin</td>\n",
       "      <td>volkswagen</td>\n",
       "      <td>nein</td>\n",
       "      <td>2016-03-26 00:00:00</td>\n",
       "      <td>0</td>\n",
       "      <td>35394</td>\n",
       "      <td>2016-04-06 20:15:37</td>\n",
       "    </tr>\n",
       "    <tr>\n",
       "      <th>3</th>\n",
       "      <td>2016-03-12 16:58:10</td>\n",
       "      <td>Smart_smart_fortwo_coupe_softouch/F1/Klima/Pan...</td>\n",
       "      <td>privat</td>\n",
       "      <td>Angebot</td>\n",
       "      <td>$4,350</td>\n",
       "      <td>control</td>\n",
       "      <td>kleinwagen</td>\n",
       "      <td>2007</td>\n",
       "      <td>automatik</td>\n",
       "      <td>71</td>\n",
       "      <td>fortwo</td>\n",
       "      <td>70,000km</td>\n",
       "      <td>6</td>\n",
       "      <td>benzin</td>\n",
       "      <td>smart</td>\n",
       "      <td>nein</td>\n",
       "      <td>2016-03-12 00:00:00</td>\n",
       "      <td>0</td>\n",
       "      <td>33729</td>\n",
       "      <td>2016-03-15 03:16:28</td>\n",
       "    </tr>\n",
       "    <tr>\n",
       "      <th>4</th>\n",
       "      <td>2016-04-01 14:38:50</td>\n",
       "      <td>Ford_Focus_1_6_Benzin_TÜV_neu_ist_sehr_gepfleg...</td>\n",
       "      <td>privat</td>\n",
       "      <td>Angebot</td>\n",
       "      <td>$1,350</td>\n",
       "      <td>test</td>\n",
       "      <td>kombi</td>\n",
       "      <td>2003</td>\n",
       "      <td>manuell</td>\n",
       "      <td>0</td>\n",
       "      <td>focus</td>\n",
       "      <td>150,000km</td>\n",
       "      <td>7</td>\n",
       "      <td>benzin</td>\n",
       "      <td>ford</td>\n",
       "      <td>nein</td>\n",
       "      <td>2016-04-01 00:00:00</td>\n",
       "      <td>0</td>\n",
       "      <td>39218</td>\n",
       "      <td>2016-04-01 14:38:50</td>\n",
       "    </tr>\n",
       "  </tbody>\n",
       "</table>\n",
       "</div>"
      ],
      "text/plain": [
       "          date_crawled                                               name  \\\n",
       "0  2016-03-26 17:47:46                   Peugeot_807_160_NAVTECH_ON_BOARD   \n",
       "1  2016-04-04 13:38:56         BMW_740i_4_4_Liter_HAMANN_UMBAU_Mega_Optik   \n",
       "2  2016-03-26 18:57:24                         Volkswagen_Golf_1.6_United   \n",
       "3  2016-03-12 16:58:10  Smart_smart_fortwo_coupe_softouch/F1/Klima/Pan...   \n",
       "4  2016-04-01 14:38:50  Ford_Focus_1_6_Benzin_TÜV_neu_ist_sehr_gepfleg...   \n",
       "\n",
       "   seller offer_type   price   abtest vehicle_type  registration_year  \\\n",
       "0  privat    Angebot  $5,000  control          bus               2004   \n",
       "1  privat    Angebot  $8,500  control    limousine               1997   \n",
       "2  privat    Angebot  $8,990     test    limousine               2009   \n",
       "3  privat    Angebot  $4,350  control   kleinwagen               2007   \n",
       "4  privat    Angebot  $1,350     test        kombi               2003   \n",
       "\n",
       "     gearbox  power_in_ps   model   odometer  registration_month fuel_type  \\\n",
       "0    manuell          158  andere  150,000km                   3       lpg   \n",
       "1  automatik          286     7er  150,000km                   6    benzin   \n",
       "2    manuell          102    golf   70,000km                   7    benzin   \n",
       "3  automatik           71  fortwo   70,000km                   6    benzin   \n",
       "4    manuell            0   focus  150,000km                   7    benzin   \n",
       "\n",
       "        brand unrepaired_damage           ad_created  number_of_pictures  \\\n",
       "0     peugeot              nein  2016-03-26 00:00:00                   0   \n",
       "1         bmw              nein  2016-04-04 00:00:00                   0   \n",
       "2  volkswagen              nein  2016-03-26 00:00:00                   0   \n",
       "3       smart              nein  2016-03-12 00:00:00                   0   \n",
       "4        ford              nein  2016-04-01 00:00:00                   0   \n",
       "\n",
       "   postal_code            last_seen  \n",
       "0        79588  2016-04-06 06:45:54  \n",
       "1        71034  2016-04-06 14:45:08  \n",
       "2        35394  2016-04-06 20:15:37  \n",
       "3        33729  2016-03-15 03:16:28  \n",
       "4        39218  2016-04-01 14:38:50  "
      ]
     },
     "execution_count": 9,
     "metadata": {},
     "output_type": "execute_result"
    }
   ],
   "source": [
    "autos.head(5)"
   ]
  },
  {
   "cell_type": "markdown",
   "metadata": {},
   "source": [
    "### Exploring the data\n",
    "\n",
    "We'll now be investigating any abnormalities in the data using the describe function. \n",
    "\n",
    "The following observations were taken after an initial inspection:\n",
    "\n",
    "- Seller and offer type seem to have a unique value which comprises majority of their columns. These columns may be dropped.\n",
    "- Registration year has a max value of 9999 (instead of the year 2000's)\n",
    "- There is no variation in the number of pictures (all values are 0).\n",
    "- Price and odometer are currently in text format when in fact they should be in numeric"
   ]
  },
  {
   "cell_type": "code",
   "execution_count": 10,
   "metadata": {
    "scrolled": true
   },
   "outputs": [
    {
     "data": {
      "text/html": [
       "<div>\n",
       "<style scoped>\n",
       "    .dataframe tbody tr th:only-of-type {\n",
       "        vertical-align: middle;\n",
       "    }\n",
       "\n",
       "    .dataframe tbody tr th {\n",
       "        vertical-align: top;\n",
       "    }\n",
       "\n",
       "    .dataframe thead th {\n",
       "        text-align: right;\n",
       "    }\n",
       "</style>\n",
       "<table border=\"1\" class=\"dataframe\">\n",
       "  <thead>\n",
       "    <tr style=\"text-align: right;\">\n",
       "      <th></th>\n",
       "      <th>date_crawled</th>\n",
       "      <th>name</th>\n",
       "      <th>seller</th>\n",
       "      <th>offer_type</th>\n",
       "      <th>price</th>\n",
       "      <th>abtest</th>\n",
       "      <th>vehicle_type</th>\n",
       "      <th>registration_year</th>\n",
       "      <th>gearbox</th>\n",
       "      <th>power_in_ps</th>\n",
       "      <th>model</th>\n",
       "      <th>odometer</th>\n",
       "      <th>registration_month</th>\n",
       "      <th>fuel_type</th>\n",
       "      <th>brand</th>\n",
       "      <th>unrepaired_damage</th>\n",
       "      <th>ad_created</th>\n",
       "      <th>number_of_pictures</th>\n",
       "      <th>postal_code</th>\n",
       "      <th>last_seen</th>\n",
       "    </tr>\n",
       "  </thead>\n",
       "  <tbody>\n",
       "    <tr>\n",
       "      <th>count</th>\n",
       "      <td>50000</td>\n",
       "      <td>50000</td>\n",
       "      <td>50000</td>\n",
       "      <td>50000</td>\n",
       "      <td>50000</td>\n",
       "      <td>50000</td>\n",
       "      <td>44905</td>\n",
       "      <td>50000.000000</td>\n",
       "      <td>47320</td>\n",
       "      <td>50000.000000</td>\n",
       "      <td>47242</td>\n",
       "      <td>50000</td>\n",
       "      <td>50000.000000</td>\n",
       "      <td>45518</td>\n",
       "      <td>50000</td>\n",
       "      <td>40171</td>\n",
       "      <td>50000</td>\n",
       "      <td>50000.0</td>\n",
       "      <td>50000.000000</td>\n",
       "      <td>50000</td>\n",
       "    </tr>\n",
       "    <tr>\n",
       "      <th>unique</th>\n",
       "      <td>48213</td>\n",
       "      <td>38754</td>\n",
       "      <td>2</td>\n",
       "      <td>2</td>\n",
       "      <td>2357</td>\n",
       "      <td>2</td>\n",
       "      <td>8</td>\n",
       "      <td>NaN</td>\n",
       "      <td>2</td>\n",
       "      <td>NaN</td>\n",
       "      <td>245</td>\n",
       "      <td>13</td>\n",
       "      <td>NaN</td>\n",
       "      <td>7</td>\n",
       "      <td>40</td>\n",
       "      <td>2</td>\n",
       "      <td>76</td>\n",
       "      <td>NaN</td>\n",
       "      <td>NaN</td>\n",
       "      <td>39481</td>\n",
       "    </tr>\n",
       "    <tr>\n",
       "      <th>top</th>\n",
       "      <td>2016-03-12 16:06:22</td>\n",
       "      <td>Ford_Fiesta</td>\n",
       "      <td>privat</td>\n",
       "      <td>Angebot</td>\n",
       "      <td>$0</td>\n",
       "      <td>test</td>\n",
       "      <td>limousine</td>\n",
       "      <td>NaN</td>\n",
       "      <td>manuell</td>\n",
       "      <td>NaN</td>\n",
       "      <td>golf</td>\n",
       "      <td>150,000km</td>\n",
       "      <td>NaN</td>\n",
       "      <td>benzin</td>\n",
       "      <td>volkswagen</td>\n",
       "      <td>nein</td>\n",
       "      <td>2016-04-03 00:00:00</td>\n",
       "      <td>NaN</td>\n",
       "      <td>NaN</td>\n",
       "      <td>2016-04-07 06:17:27</td>\n",
       "    </tr>\n",
       "    <tr>\n",
       "      <th>freq</th>\n",
       "      <td>3</td>\n",
       "      <td>78</td>\n",
       "      <td>49999</td>\n",
       "      <td>49999</td>\n",
       "      <td>1421</td>\n",
       "      <td>25756</td>\n",
       "      <td>12859</td>\n",
       "      <td>NaN</td>\n",
       "      <td>36993</td>\n",
       "      <td>NaN</td>\n",
       "      <td>4024</td>\n",
       "      <td>32424</td>\n",
       "      <td>NaN</td>\n",
       "      <td>30107</td>\n",
       "      <td>10687</td>\n",
       "      <td>35232</td>\n",
       "      <td>1946</td>\n",
       "      <td>NaN</td>\n",
       "      <td>NaN</td>\n",
       "      <td>8</td>\n",
       "    </tr>\n",
       "    <tr>\n",
       "      <th>mean</th>\n",
       "      <td>NaN</td>\n",
       "      <td>NaN</td>\n",
       "      <td>NaN</td>\n",
       "      <td>NaN</td>\n",
       "      <td>NaN</td>\n",
       "      <td>NaN</td>\n",
       "      <td>NaN</td>\n",
       "      <td>2005.073280</td>\n",
       "      <td>NaN</td>\n",
       "      <td>116.355920</td>\n",
       "      <td>NaN</td>\n",
       "      <td>NaN</td>\n",
       "      <td>5.723360</td>\n",
       "      <td>NaN</td>\n",
       "      <td>NaN</td>\n",
       "      <td>NaN</td>\n",
       "      <td>NaN</td>\n",
       "      <td>0.0</td>\n",
       "      <td>50813.627300</td>\n",
       "      <td>NaN</td>\n",
       "    </tr>\n",
       "    <tr>\n",
       "      <th>std</th>\n",
       "      <td>NaN</td>\n",
       "      <td>NaN</td>\n",
       "      <td>NaN</td>\n",
       "      <td>NaN</td>\n",
       "      <td>NaN</td>\n",
       "      <td>NaN</td>\n",
       "      <td>NaN</td>\n",
       "      <td>105.712813</td>\n",
       "      <td>NaN</td>\n",
       "      <td>209.216627</td>\n",
       "      <td>NaN</td>\n",
       "      <td>NaN</td>\n",
       "      <td>3.711984</td>\n",
       "      <td>NaN</td>\n",
       "      <td>NaN</td>\n",
       "      <td>NaN</td>\n",
       "      <td>NaN</td>\n",
       "      <td>0.0</td>\n",
       "      <td>25779.747957</td>\n",
       "      <td>NaN</td>\n",
       "    </tr>\n",
       "    <tr>\n",
       "      <th>min</th>\n",
       "      <td>NaN</td>\n",
       "      <td>NaN</td>\n",
       "      <td>NaN</td>\n",
       "      <td>NaN</td>\n",
       "      <td>NaN</td>\n",
       "      <td>NaN</td>\n",
       "      <td>NaN</td>\n",
       "      <td>1000.000000</td>\n",
       "      <td>NaN</td>\n",
       "      <td>0.000000</td>\n",
       "      <td>NaN</td>\n",
       "      <td>NaN</td>\n",
       "      <td>0.000000</td>\n",
       "      <td>NaN</td>\n",
       "      <td>NaN</td>\n",
       "      <td>NaN</td>\n",
       "      <td>NaN</td>\n",
       "      <td>0.0</td>\n",
       "      <td>1067.000000</td>\n",
       "      <td>NaN</td>\n",
       "    </tr>\n",
       "    <tr>\n",
       "      <th>25%</th>\n",
       "      <td>NaN</td>\n",
       "      <td>NaN</td>\n",
       "      <td>NaN</td>\n",
       "      <td>NaN</td>\n",
       "      <td>NaN</td>\n",
       "      <td>NaN</td>\n",
       "      <td>NaN</td>\n",
       "      <td>1999.000000</td>\n",
       "      <td>NaN</td>\n",
       "      <td>70.000000</td>\n",
       "      <td>NaN</td>\n",
       "      <td>NaN</td>\n",
       "      <td>3.000000</td>\n",
       "      <td>NaN</td>\n",
       "      <td>NaN</td>\n",
       "      <td>NaN</td>\n",
       "      <td>NaN</td>\n",
       "      <td>0.0</td>\n",
       "      <td>30451.000000</td>\n",
       "      <td>NaN</td>\n",
       "    </tr>\n",
       "    <tr>\n",
       "      <th>50%</th>\n",
       "      <td>NaN</td>\n",
       "      <td>NaN</td>\n",
       "      <td>NaN</td>\n",
       "      <td>NaN</td>\n",
       "      <td>NaN</td>\n",
       "      <td>NaN</td>\n",
       "      <td>NaN</td>\n",
       "      <td>2003.000000</td>\n",
       "      <td>NaN</td>\n",
       "      <td>105.000000</td>\n",
       "      <td>NaN</td>\n",
       "      <td>NaN</td>\n",
       "      <td>6.000000</td>\n",
       "      <td>NaN</td>\n",
       "      <td>NaN</td>\n",
       "      <td>NaN</td>\n",
       "      <td>NaN</td>\n",
       "      <td>0.0</td>\n",
       "      <td>49577.000000</td>\n",
       "      <td>NaN</td>\n",
       "    </tr>\n",
       "    <tr>\n",
       "      <th>75%</th>\n",
       "      <td>NaN</td>\n",
       "      <td>NaN</td>\n",
       "      <td>NaN</td>\n",
       "      <td>NaN</td>\n",
       "      <td>NaN</td>\n",
       "      <td>NaN</td>\n",
       "      <td>NaN</td>\n",
       "      <td>2008.000000</td>\n",
       "      <td>NaN</td>\n",
       "      <td>150.000000</td>\n",
       "      <td>NaN</td>\n",
       "      <td>NaN</td>\n",
       "      <td>9.000000</td>\n",
       "      <td>NaN</td>\n",
       "      <td>NaN</td>\n",
       "      <td>NaN</td>\n",
       "      <td>NaN</td>\n",
       "      <td>0.0</td>\n",
       "      <td>71540.000000</td>\n",
       "      <td>NaN</td>\n",
       "    </tr>\n",
       "    <tr>\n",
       "      <th>max</th>\n",
       "      <td>NaN</td>\n",
       "      <td>NaN</td>\n",
       "      <td>NaN</td>\n",
       "      <td>NaN</td>\n",
       "      <td>NaN</td>\n",
       "      <td>NaN</td>\n",
       "      <td>NaN</td>\n",
       "      <td>9999.000000</td>\n",
       "      <td>NaN</td>\n",
       "      <td>17700.000000</td>\n",
       "      <td>NaN</td>\n",
       "      <td>NaN</td>\n",
       "      <td>12.000000</td>\n",
       "      <td>NaN</td>\n",
       "      <td>NaN</td>\n",
       "      <td>NaN</td>\n",
       "      <td>NaN</td>\n",
       "      <td>0.0</td>\n",
       "      <td>99998.000000</td>\n",
       "      <td>NaN</td>\n",
       "    </tr>\n",
       "  </tbody>\n",
       "</table>\n",
       "</div>"
      ],
      "text/plain": [
       "               date_crawled         name  seller offer_type  price abtest  \\\n",
       "count                 50000        50000   50000      50000  50000  50000   \n",
       "unique                48213        38754       2          2   2357      2   \n",
       "top     2016-03-12 16:06:22  Ford_Fiesta  privat    Angebot     $0   test   \n",
       "freq                      3           78   49999      49999   1421  25756   \n",
       "mean                    NaN          NaN     NaN        NaN    NaN    NaN   \n",
       "std                     NaN          NaN     NaN        NaN    NaN    NaN   \n",
       "min                     NaN          NaN     NaN        NaN    NaN    NaN   \n",
       "25%                     NaN          NaN     NaN        NaN    NaN    NaN   \n",
       "50%                     NaN          NaN     NaN        NaN    NaN    NaN   \n",
       "75%                     NaN          NaN     NaN        NaN    NaN    NaN   \n",
       "max                     NaN          NaN     NaN        NaN    NaN    NaN   \n",
       "\n",
       "       vehicle_type  registration_year  gearbox   power_in_ps  model  \\\n",
       "count         44905       50000.000000    47320  50000.000000  47242   \n",
       "unique            8                NaN        2           NaN    245   \n",
       "top       limousine                NaN  manuell           NaN   golf   \n",
       "freq          12859                NaN    36993           NaN   4024   \n",
       "mean            NaN        2005.073280      NaN    116.355920    NaN   \n",
       "std             NaN         105.712813      NaN    209.216627    NaN   \n",
       "min             NaN        1000.000000      NaN      0.000000    NaN   \n",
       "25%             NaN        1999.000000      NaN     70.000000    NaN   \n",
       "50%             NaN        2003.000000      NaN    105.000000    NaN   \n",
       "75%             NaN        2008.000000      NaN    150.000000    NaN   \n",
       "max             NaN        9999.000000      NaN  17700.000000    NaN   \n",
       "\n",
       "         odometer  registration_month fuel_type       brand unrepaired_damage  \\\n",
       "count       50000        50000.000000     45518       50000             40171   \n",
       "unique         13                 NaN         7          40                 2   \n",
       "top     150,000km                 NaN    benzin  volkswagen              nein   \n",
       "freq        32424                 NaN     30107       10687             35232   \n",
       "mean          NaN            5.723360       NaN         NaN               NaN   \n",
       "std           NaN            3.711984       NaN         NaN               NaN   \n",
       "min           NaN            0.000000       NaN         NaN               NaN   \n",
       "25%           NaN            3.000000       NaN         NaN               NaN   \n",
       "50%           NaN            6.000000       NaN         NaN               NaN   \n",
       "75%           NaN            9.000000       NaN         NaN               NaN   \n",
       "max           NaN           12.000000       NaN         NaN               NaN   \n",
       "\n",
       "                 ad_created  number_of_pictures   postal_code  \\\n",
       "count                 50000             50000.0  50000.000000   \n",
       "unique                   76                 NaN           NaN   \n",
       "top     2016-04-03 00:00:00                 NaN           NaN   \n",
       "freq                   1946                 NaN           NaN   \n",
       "mean                    NaN                 0.0  50813.627300   \n",
       "std                     NaN                 0.0  25779.747957   \n",
       "min                     NaN                 0.0   1067.000000   \n",
       "25%                     NaN                 0.0  30451.000000   \n",
       "50%                     NaN                 0.0  49577.000000   \n",
       "75%                     NaN                 0.0  71540.000000   \n",
       "max                     NaN                 0.0  99998.000000   \n",
       "\n",
       "                  last_seen  \n",
       "count                 50000  \n",
       "unique                39481  \n",
       "top     2016-04-07 06:17:27  \n",
       "freq                      8  \n",
       "mean                    NaN  \n",
       "std                     NaN  \n",
       "min                     NaN  \n",
       "25%                     NaN  \n",
       "50%                     NaN  \n",
       "75%                     NaN  \n",
       "max                     NaN  "
      ]
     },
     "execution_count": 10,
     "metadata": {},
     "output_type": "execute_result"
    }
   ],
   "source": [
    "autos.describe(include=\"all\")"
   ]
  },
  {
   "cell_type": "markdown",
   "metadata": {},
   "source": [
    "### Converting text columns to numeric\n",
    "\n",
    "Since both price and odometers should be numeric, the process below outlines the steps on how these columns are converted to the proper data type."
   ]
  },
  {
   "cell_type": "code",
   "execution_count": 11,
   "metadata": {
    "scrolled": true
   },
   "outputs": [
    {
     "data": {
      "text/plain": [
       "$0        1421\n",
       "$500       781\n",
       "$1,500     734\n",
       "$2,500     643\n",
       "$1,000     639\n",
       "Name: price, dtype: int64"
      ]
     },
     "execution_count": 11,
     "metadata": {},
     "output_type": "execute_result"
    }
   ],
   "source": [
    "autos['price'].value_counts().head(5)"
   ]
  },
  {
   "cell_type": "code",
   "execution_count": 12,
   "metadata": {},
   "outputs": [
    {
     "data": {
      "text/plain": [
       "5,000km     967\n",
       "40,000km    819\n",
       "30,000km    789\n",
       "20,000km    784\n",
       "10,000km    264\n",
       "Name: odometer, dtype: int64"
      ]
     },
     "execution_count": 12,
     "metadata": {},
     "output_type": "execute_result"
    }
   ],
   "source": [
    "autos['odometer'].value_counts().tail(5)"
   ]
  },
  {
   "cell_type": "code",
   "execution_count": 13,
   "metadata": {},
   "outputs": [],
   "source": [
    "pr_int = []\n",
    "odo_int = []\n",
    "\n",
    "def txt_to_str(string):\n",
    "    string = string.replace(\"$\", \"\")\n",
    "    string = string.replace(\",\", \"\")\n",
    "    string = string.replace(\"km\", \"\")\n",
    "    return(int(string))\n",
    "\n",
    "for pr in autos['price']:\n",
    "    pr_int.append(txt_to_str(pr))\n",
    "    \n",
    "for odo in autos['odometer']:\n",
    "    odo_int.append(txt_to_str(odo))"
   ]
  },
  {
   "cell_type": "code",
   "execution_count": 14,
   "metadata": {},
   "outputs": [
    {
     "data": {
      "text/plain": [
       "[5000, 8500, 8990, 4350, 1350]"
      ]
     },
     "execution_count": 14,
     "metadata": {},
     "output_type": "execute_result"
    }
   ],
   "source": [
    "pr_int[:5]"
   ]
  },
  {
   "cell_type": "code",
   "execution_count": 15,
   "metadata": {},
   "outputs": [
    {
     "data": {
      "text/plain": [
       "[150000, 150000, 70000, 70000, 150000]"
      ]
     },
     "execution_count": 15,
     "metadata": {},
     "output_type": "execute_result"
    }
   ],
   "source": [
    "odo_int[:5]"
   ]
  },
  {
   "cell_type": "code",
   "execution_count": 16,
   "metadata": {},
   "outputs": [
    {
     "data": {
      "text/plain": [
       "0    5000\n",
       "1    8500\n",
       "2    8990\n",
       "3    4350\n",
       "4    1350\n",
       "Name: price, dtype: int64"
      ]
     },
     "execution_count": 16,
     "metadata": {},
     "output_type": "execute_result"
    }
   ],
   "source": [
    "autos['price'] = pr_int\n",
    "autos['price'].head(5)"
   ]
  },
  {
   "cell_type": "code",
   "execution_count": 17,
   "metadata": {},
   "outputs": [
    {
     "data": {
      "text/plain": [
       "0    150000\n",
       "1    150000\n",
       "2     70000\n",
       "3     70000\n",
       "4    150000\n",
       "Name: odometer, dtype: int64"
      ]
     },
     "execution_count": 17,
     "metadata": {},
     "output_type": "execute_result"
    }
   ],
   "source": [
    "autos['odometer'] = odo_int\n",
    "autos['odometer'].head(5)"
   ]
  },
  {
   "cell_type": "code",
   "execution_count": 18,
   "metadata": {},
   "outputs": [],
   "source": [
    "autos.rename({'odometer':'odometer_km'}, axis=1, inplace=True)"
   ]
  },
  {
   "cell_type": "markdown",
   "metadata": {},
   "source": [
    "Verify the output:"
   ]
  },
  {
   "cell_type": "code",
   "execution_count": 19,
   "metadata": {
    "scrolled": true
   },
   "outputs": [
    {
     "data": {
      "text/html": [
       "<div>\n",
       "<style scoped>\n",
       "    .dataframe tbody tr th:only-of-type {\n",
       "        vertical-align: middle;\n",
       "    }\n",
       "\n",
       "    .dataframe tbody tr th {\n",
       "        vertical-align: top;\n",
       "    }\n",
       "\n",
       "    .dataframe thead th {\n",
       "        text-align: right;\n",
       "    }\n",
       "</style>\n",
       "<table border=\"1\" class=\"dataframe\">\n",
       "  <thead>\n",
       "    <tr style=\"text-align: right;\">\n",
       "      <th></th>\n",
       "      <th>date_crawled</th>\n",
       "      <th>name</th>\n",
       "      <th>seller</th>\n",
       "      <th>offer_type</th>\n",
       "      <th>price</th>\n",
       "      <th>abtest</th>\n",
       "      <th>vehicle_type</th>\n",
       "      <th>registration_year</th>\n",
       "      <th>gearbox</th>\n",
       "      <th>power_in_ps</th>\n",
       "      <th>model</th>\n",
       "      <th>odometer_km</th>\n",
       "      <th>registration_month</th>\n",
       "      <th>fuel_type</th>\n",
       "      <th>brand</th>\n",
       "      <th>unrepaired_damage</th>\n",
       "      <th>ad_created</th>\n",
       "      <th>number_of_pictures</th>\n",
       "      <th>postal_code</th>\n",
       "      <th>last_seen</th>\n",
       "    </tr>\n",
       "  </thead>\n",
       "  <tbody>\n",
       "    <tr>\n",
       "      <th>0</th>\n",
       "      <td>2016-03-26 17:47:46</td>\n",
       "      <td>Peugeot_807_160_NAVTECH_ON_BOARD</td>\n",
       "      <td>privat</td>\n",
       "      <td>Angebot</td>\n",
       "      <td>5000</td>\n",
       "      <td>control</td>\n",
       "      <td>bus</td>\n",
       "      <td>2004</td>\n",
       "      <td>manuell</td>\n",
       "      <td>158</td>\n",
       "      <td>andere</td>\n",
       "      <td>150000</td>\n",
       "      <td>3</td>\n",
       "      <td>lpg</td>\n",
       "      <td>peugeot</td>\n",
       "      <td>nein</td>\n",
       "      <td>2016-03-26 00:00:00</td>\n",
       "      <td>0</td>\n",
       "      <td>79588</td>\n",
       "      <td>2016-04-06 06:45:54</td>\n",
       "    </tr>\n",
       "    <tr>\n",
       "      <th>1</th>\n",
       "      <td>2016-04-04 13:38:56</td>\n",
       "      <td>BMW_740i_4_4_Liter_HAMANN_UMBAU_Mega_Optik</td>\n",
       "      <td>privat</td>\n",
       "      <td>Angebot</td>\n",
       "      <td>8500</td>\n",
       "      <td>control</td>\n",
       "      <td>limousine</td>\n",
       "      <td>1997</td>\n",
       "      <td>automatik</td>\n",
       "      <td>286</td>\n",
       "      <td>7er</td>\n",
       "      <td>150000</td>\n",
       "      <td>6</td>\n",
       "      <td>benzin</td>\n",
       "      <td>bmw</td>\n",
       "      <td>nein</td>\n",
       "      <td>2016-04-04 00:00:00</td>\n",
       "      <td>0</td>\n",
       "      <td>71034</td>\n",
       "      <td>2016-04-06 14:45:08</td>\n",
       "    </tr>\n",
       "    <tr>\n",
       "      <th>2</th>\n",
       "      <td>2016-03-26 18:57:24</td>\n",
       "      <td>Volkswagen_Golf_1.6_United</td>\n",
       "      <td>privat</td>\n",
       "      <td>Angebot</td>\n",
       "      <td>8990</td>\n",
       "      <td>test</td>\n",
       "      <td>limousine</td>\n",
       "      <td>2009</td>\n",
       "      <td>manuell</td>\n",
       "      <td>102</td>\n",
       "      <td>golf</td>\n",
       "      <td>70000</td>\n",
       "      <td>7</td>\n",
       "      <td>benzin</td>\n",
       "      <td>volkswagen</td>\n",
       "      <td>nein</td>\n",
       "      <td>2016-03-26 00:00:00</td>\n",
       "      <td>0</td>\n",
       "      <td>35394</td>\n",
       "      <td>2016-04-06 20:15:37</td>\n",
       "    </tr>\n",
       "    <tr>\n",
       "      <th>3</th>\n",
       "      <td>2016-03-12 16:58:10</td>\n",
       "      <td>Smart_smart_fortwo_coupe_softouch/F1/Klima/Pan...</td>\n",
       "      <td>privat</td>\n",
       "      <td>Angebot</td>\n",
       "      <td>4350</td>\n",
       "      <td>control</td>\n",
       "      <td>kleinwagen</td>\n",
       "      <td>2007</td>\n",
       "      <td>automatik</td>\n",
       "      <td>71</td>\n",
       "      <td>fortwo</td>\n",
       "      <td>70000</td>\n",
       "      <td>6</td>\n",
       "      <td>benzin</td>\n",
       "      <td>smart</td>\n",
       "      <td>nein</td>\n",
       "      <td>2016-03-12 00:00:00</td>\n",
       "      <td>0</td>\n",
       "      <td>33729</td>\n",
       "      <td>2016-03-15 03:16:28</td>\n",
       "    </tr>\n",
       "    <tr>\n",
       "      <th>4</th>\n",
       "      <td>2016-04-01 14:38:50</td>\n",
       "      <td>Ford_Focus_1_6_Benzin_TÜV_neu_ist_sehr_gepfleg...</td>\n",
       "      <td>privat</td>\n",
       "      <td>Angebot</td>\n",
       "      <td>1350</td>\n",
       "      <td>test</td>\n",
       "      <td>kombi</td>\n",
       "      <td>2003</td>\n",
       "      <td>manuell</td>\n",
       "      <td>0</td>\n",
       "      <td>focus</td>\n",
       "      <td>150000</td>\n",
       "      <td>7</td>\n",
       "      <td>benzin</td>\n",
       "      <td>ford</td>\n",
       "      <td>nein</td>\n",
       "      <td>2016-04-01 00:00:00</td>\n",
       "      <td>0</td>\n",
       "      <td>39218</td>\n",
       "      <td>2016-04-01 14:38:50</td>\n",
       "    </tr>\n",
       "  </tbody>\n",
       "</table>\n",
       "</div>"
      ],
      "text/plain": [
       "          date_crawled                                               name  \\\n",
       "0  2016-03-26 17:47:46                   Peugeot_807_160_NAVTECH_ON_BOARD   \n",
       "1  2016-04-04 13:38:56         BMW_740i_4_4_Liter_HAMANN_UMBAU_Mega_Optik   \n",
       "2  2016-03-26 18:57:24                         Volkswagen_Golf_1.6_United   \n",
       "3  2016-03-12 16:58:10  Smart_smart_fortwo_coupe_softouch/F1/Klima/Pan...   \n",
       "4  2016-04-01 14:38:50  Ford_Focus_1_6_Benzin_TÜV_neu_ist_sehr_gepfleg...   \n",
       "\n",
       "   seller offer_type  price   abtest vehicle_type  registration_year  \\\n",
       "0  privat    Angebot   5000  control          bus               2004   \n",
       "1  privat    Angebot   8500  control    limousine               1997   \n",
       "2  privat    Angebot   8990     test    limousine               2009   \n",
       "3  privat    Angebot   4350  control   kleinwagen               2007   \n",
       "4  privat    Angebot   1350     test        kombi               2003   \n",
       "\n",
       "     gearbox  power_in_ps   model  odometer_km  registration_month fuel_type  \\\n",
       "0    manuell          158  andere       150000                   3       lpg   \n",
       "1  automatik          286     7er       150000                   6    benzin   \n",
       "2    manuell          102    golf        70000                   7    benzin   \n",
       "3  automatik           71  fortwo        70000                   6    benzin   \n",
       "4    manuell            0   focus       150000                   7    benzin   \n",
       "\n",
       "        brand unrepaired_damage           ad_created  number_of_pictures  \\\n",
       "0     peugeot              nein  2016-03-26 00:00:00                   0   \n",
       "1         bmw              nein  2016-04-04 00:00:00                   0   \n",
       "2  volkswagen              nein  2016-03-26 00:00:00                   0   \n",
       "3       smart              nein  2016-03-12 00:00:00                   0   \n",
       "4        ford              nein  2016-04-01 00:00:00                   0   \n",
       "\n",
       "   postal_code            last_seen  \n",
       "0        79588  2016-04-06 06:45:54  \n",
       "1        71034  2016-04-06 14:45:08  \n",
       "2        35394  2016-04-06 20:15:37  \n",
       "3        33729  2016-03-15 03:16:28  \n",
       "4        39218  2016-04-01 14:38:50  "
      ]
     },
     "execution_count": 19,
     "metadata": {},
     "output_type": "execute_result"
    }
   ],
   "source": [
    "autos.head(5)"
   ]
  },
  {
   "cell_type": "markdown",
   "metadata": {},
   "source": [
    "### Exploring the cleaned columns\n",
    "\n",
    "After converting the numeric columns, we'll be looking into the values of the columns to see if there are any discrepancies.\n",
    "\n",
    "We'll start off first with the Price column:"
   ]
  },
  {
   "cell_type": "code",
   "execution_count": 20,
   "metadata": {},
   "outputs": [
    {
     "data": {
      "text/plain": [
       "(2357,)"
      ]
     },
     "execution_count": 20,
     "metadata": {},
     "output_type": "execute_result"
    }
   ],
   "source": [
    "autos['price'].unique().shape"
   ]
  },
  {
   "cell_type": "code",
   "execution_count": 21,
   "metadata": {},
   "outputs": [
    {
     "data": {
      "text/plain": [
       "count    5.000000e+04\n",
       "mean     9.840044e+03\n",
       "std      4.811044e+05\n",
       "min      0.000000e+00\n",
       "25%      1.100000e+03\n",
       "50%      2.950000e+03\n",
       "75%      7.200000e+03\n",
       "max      1.000000e+08\n",
       "Name: price, dtype: float64"
      ]
     },
     "execution_count": 21,
     "metadata": {},
     "output_type": "execute_result"
    }
   ],
   "source": [
    "autos['price'].describe()"
   ]
  },
  {
   "cell_type": "code",
   "execution_count": 22,
   "metadata": {},
   "outputs": [
    {
     "data": {
      "text/plain": [
       "0     1421\n",
       "1      156\n",
       "2        3\n",
       "3        1\n",
       "5        2\n",
       "8        1\n",
       "9        1\n",
       "10       7\n",
       "11       2\n",
       "12       3\n",
       "13       2\n",
       "14       1\n",
       "15       2\n",
       "17       3\n",
       "18       1\n",
       "20       4\n",
       "25       5\n",
       "29       1\n",
       "30       7\n",
       "35       1\n",
       "Name: price, dtype: int64"
      ]
     },
     "execution_count": 22,
     "metadata": {},
     "output_type": "execute_result"
    }
   ],
   "source": [
    "autos['price'].value_counts().sort_index(ascending=True).head(20)"
   ]
  },
  {
   "cell_type": "code",
   "execution_count": 23,
   "metadata": {
    "scrolled": true
   },
   "outputs": [
    {
     "data": {
      "text/plain": [
       "99999999    1\n",
       "27322222    1\n",
       "12345678    3\n",
       "11111111    2\n",
       "10000000    1\n",
       "3890000     1\n",
       "1300000     1\n",
       "1234566     1\n",
       "999999      2\n",
       "999990      1\n",
       "350000      1\n",
       "345000      1\n",
       "299000      1\n",
       "295000      1\n",
       "265000      1\n",
       "259000      1\n",
       "250000      1\n",
       "220000      1\n",
       "198000      1\n",
       "197000      1\n",
       "194000      1\n",
       "190000      1\n",
       "180000      1\n",
       "175000      1\n",
       "169999      1\n",
       "Name: price, dtype: int64"
      ]
     },
     "execution_count": 23,
     "metadata": {},
     "output_type": "execute_result"
    }
   ],
   "source": [
    "autos['price'].value_counts().sort_index(ascending=False).head(25)"
   ]
  },
  {
   "cell_type": "code",
   "execution_count": 24,
   "metadata": {},
   "outputs": [],
   "source": [
    "autos = autos[autos['price'].between(0, 20000)]"
   ]
  },
  {
   "cell_type": "code",
   "execution_count": 25,
   "metadata": {},
   "outputs": [
    {
     "data": {
      "text/plain": [
       "(47653, 20)"
      ]
     },
     "execution_count": 25,
     "metadata": {},
     "output_type": "execute_result"
    }
   ],
   "source": [
    "autos.shape"
   ]
  },
  {
   "cell_type": "markdown",
   "metadata": {},
   "source": [
    "We'll then proceed with the Odometer column:"
   ]
  },
  {
   "cell_type": "code",
   "execution_count": 26,
   "metadata": {},
   "outputs": [
    {
     "data": {
      "text/plain": [
       "(13,)"
      ]
     },
     "execution_count": 26,
     "metadata": {},
     "output_type": "execute_result"
    }
   ],
   "source": [
    "autos['odometer_km'].unique().shape"
   ]
  },
  {
   "cell_type": "code",
   "execution_count": 27,
   "metadata": {
    "scrolled": true
   },
   "outputs": [
    {
     "data": {
      "text/plain": [
       "count     47653.000000\n",
       "mean     128442.595429\n",
       "std       37718.011797\n",
       "min        5000.000000\n",
       "25%      125000.000000\n",
       "50%      150000.000000\n",
       "75%      150000.000000\n",
       "max      150000.000000\n",
       "Name: odometer_km, dtype: float64"
      ]
     },
     "execution_count": 27,
     "metadata": {},
     "output_type": "execute_result"
    }
   ],
   "source": [
    "autos['odometer_km'].describe()"
   ]
  },
  {
   "cell_type": "code",
   "execution_count": 28,
   "metadata": {
    "scrolled": true
   },
   "outputs": [
    {
     "data": {
      "text/plain": [
       "5000        885\n",
       "10000       166\n",
       "20000       532\n",
       "30000       571\n",
       "40000       620\n",
       "50000       818\n",
       "60000       977\n",
       "70000      1073\n",
       "80000      1305\n",
       "90000      1626\n",
       "100000     2015\n",
       "125000     4984\n",
       "150000    32081\n",
       "Name: odometer_km, dtype: int64"
      ]
     },
     "execution_count": 28,
     "metadata": {},
     "output_type": "execute_result"
    }
   ],
   "source": [
    "autos['odometer_km'].value_counts().sort_index(ascending=True)"
   ]
  },
  {
   "cell_type": "code",
   "execution_count": 29,
   "metadata": {},
   "outputs": [],
   "source": [
    "autos = autos[autos['odometer_km'].between(50000, 150000)]"
   ]
  },
  {
   "cell_type": "markdown",
   "metadata": {},
   "source": [
    "Rougly 10,000 observations were removed as a result of the data cleaning. The price column is a lot more normally distributed and the odometer_km column has less of a problem now."
   ]
  },
  {
   "cell_type": "code",
   "execution_count": 30,
   "metadata": {},
   "outputs": [
    {
     "data": {
      "text/plain": [
       "(44879, 20)"
      ]
     },
     "execution_count": 30,
     "metadata": {},
     "output_type": "execute_result"
    }
   ],
   "source": [
    "autos.shape"
   ]
  },
  {
   "cell_type": "code",
   "execution_count": 31,
   "metadata": {
    "scrolled": true
   },
   "outputs": [
    {
     "data": {
      "text/html": [
       "<div>\n",
       "<style scoped>\n",
       "    .dataframe tbody tr th:only-of-type {\n",
       "        vertical-align: middle;\n",
       "    }\n",
       "\n",
       "    .dataframe tbody tr th {\n",
       "        vertical-align: top;\n",
       "    }\n",
       "\n",
       "    .dataframe thead th {\n",
       "        text-align: right;\n",
       "    }\n",
       "</style>\n",
       "<table border=\"1\" class=\"dataframe\">\n",
       "  <thead>\n",
       "    <tr style=\"text-align: right;\">\n",
       "      <th></th>\n",
       "      <th>price</th>\n",
       "      <th>registration_year</th>\n",
       "      <th>power_in_ps</th>\n",
       "      <th>odometer_km</th>\n",
       "      <th>registration_month</th>\n",
       "      <th>number_of_pictures</th>\n",
       "      <th>postal_code</th>\n",
       "    </tr>\n",
       "  </thead>\n",
       "  <tbody>\n",
       "    <tr>\n",
       "      <th>count</th>\n",
       "      <td>44879.000000</td>\n",
       "      <td>44879.000000</td>\n",
       "      <td>44879.000000</td>\n",
       "      <td>44879.000000</td>\n",
       "      <td>44879.000000</td>\n",
       "      <td>44879.0</td>\n",
       "      <td>44879.000000</td>\n",
       "    </tr>\n",
       "    <tr>\n",
       "      <th>mean</th>\n",
       "      <td>4215.974376</td>\n",
       "      <td>2003.108336</td>\n",
       "      <td>111.857885</td>\n",
       "      <td>135074.756568</td>\n",
       "      <td>5.744714</td>\n",
       "      <td>0.0</td>\n",
       "      <td>50599.899597</td>\n",
       "    </tr>\n",
       "    <tr>\n",
       "      <th>std</th>\n",
       "      <td>4319.636578</td>\n",
       "      <td>33.767519</td>\n",
       "      <td>202.488151</td>\n",
       "      <td>27266.105918</td>\n",
       "      <td>3.717269</td>\n",
       "      <td>0.0</td>\n",
       "      <td>25722.210849</td>\n",
       "    </tr>\n",
       "    <tr>\n",
       "      <th>min</th>\n",
       "      <td>0.000000</td>\n",
       "      <td>1910.000000</td>\n",
       "      <td>0.000000</td>\n",
       "      <td>50000.000000</td>\n",
       "      <td>0.000000</td>\n",
       "      <td>0.0</td>\n",
       "      <td>1067.000000</td>\n",
       "    </tr>\n",
       "    <tr>\n",
       "      <th>25%</th>\n",
       "      <td>1000.000000</td>\n",
       "      <td>1999.000000</td>\n",
       "      <td>69.000000</td>\n",
       "      <td>125000.000000</td>\n",
       "      <td>3.000000</td>\n",
       "      <td>0.0</td>\n",
       "      <td>30169.000000</td>\n",
       "    </tr>\n",
       "    <tr>\n",
       "      <th>50%</th>\n",
       "      <td>2600.000000</td>\n",
       "      <td>2003.000000</td>\n",
       "      <td>105.000000</td>\n",
       "      <td>150000.000000</td>\n",
       "      <td>6.000000</td>\n",
       "      <td>0.0</td>\n",
       "      <td>49393.000000</td>\n",
       "    </tr>\n",
       "    <tr>\n",
       "      <th>75%</th>\n",
       "      <td>5999.000000</td>\n",
       "      <td>2007.000000</td>\n",
       "      <td>143.000000</td>\n",
       "      <td>150000.000000</td>\n",
       "      <td>9.000000</td>\n",
       "      <td>0.0</td>\n",
       "      <td>71126.000000</td>\n",
       "    </tr>\n",
       "    <tr>\n",
       "      <th>max</th>\n",
       "      <td>20000.000000</td>\n",
       "      <td>9000.000000</td>\n",
       "      <td>17700.000000</td>\n",
       "      <td>150000.000000</td>\n",
       "      <td>12.000000</td>\n",
       "      <td>0.0</td>\n",
       "      <td>99998.000000</td>\n",
       "    </tr>\n",
       "  </tbody>\n",
       "</table>\n",
       "</div>"
      ],
      "text/plain": [
       "              price  registration_year   power_in_ps    odometer_km  \\\n",
       "count  44879.000000       44879.000000  44879.000000   44879.000000   \n",
       "mean    4215.974376        2003.108336    111.857885  135074.756568   \n",
       "std     4319.636578          33.767519    202.488151   27266.105918   \n",
       "min        0.000000        1910.000000      0.000000   50000.000000   \n",
       "25%     1000.000000        1999.000000     69.000000  125000.000000   \n",
       "50%     2600.000000        2003.000000    105.000000  150000.000000   \n",
       "75%     5999.000000        2007.000000    143.000000  150000.000000   \n",
       "max    20000.000000        9000.000000  17700.000000  150000.000000   \n",
       "\n",
       "       registration_month  number_of_pictures   postal_code  \n",
       "count        44879.000000             44879.0  44879.000000  \n",
       "mean             5.744714                 0.0  50599.899597  \n",
       "std              3.717269                 0.0  25722.210849  \n",
       "min              0.000000                 0.0   1067.000000  \n",
       "25%              3.000000                 0.0  30169.000000  \n",
       "50%              6.000000                 0.0  49393.000000  \n",
       "75%              9.000000                 0.0  71126.000000  \n",
       "max             12.000000                 0.0  99998.000000  "
      ]
     },
     "execution_count": 31,
     "metadata": {},
     "output_type": "execute_result"
    }
   ],
   "source": [
    "autos.describe(include = [np.number])"
   ]
  },
  {
   "cell_type": "markdown",
   "metadata": {},
   "source": [
    "### Exploring the date columns\n",
    "\n",
    "After cleaning the numeric columns, we'll now go through the date columns. Here are the five columns representing the dates:\n",
    "\n",
    "- `date_crawled`: added by the crawler\n",
    "- `last_seen`: added by the crawler\n",
    "- `ad_created`: from the website\n",
    "- `registration_month`: from the website\n",
    "- `registration_year`: from the website\n",
    "\n",
    "Of the mentioned columns, the first three are identified as strings. Since the first three are strings, we'll be converting them into the date format and generate a Frequency distribution Table using proportions:"
   ]
  },
  {
   "cell_type": "code",
   "execution_count": 32,
   "metadata": {},
   "outputs": [
    {
     "data": {
      "text/plain": [
       "2016-03-05    0.025357\n",
       "2016-03-06    0.013949\n",
       "2016-03-07    0.035986\n",
       "2016-03-08    0.033980\n",
       "2016-03-09    0.033334\n",
       "2016-03-10    0.032265\n",
       "2016-03-11    0.031930\n",
       "2016-03-12    0.037256\n",
       "2016-03-13    0.015286\n",
       "2016-03-14    0.036988\n",
       "2016-03-15    0.033757\n",
       "2016-03-16    0.029524\n",
       "2016-03-17    0.031351\n",
       "2016-03-18    0.013013\n",
       "2016-03-19    0.034805\n",
       "2016-03-20    0.037768\n",
       "2016-03-21    0.037501\n",
       "2016-03-22    0.032777\n",
       "2016-03-23    0.032376\n",
       "2016-03-24    0.028989\n",
       "2016-03-25    0.031886\n",
       "2016-03-26    0.033022\n",
       "2016-03-27    0.030638\n",
       "2016-03-28    0.034805\n",
       "2016-03-29    0.034159\n",
       "2016-03-30    0.033668\n",
       "2016-03-31    0.031819\n",
       "2016-04-01    0.033379\n",
       "2016-04-02    0.035384\n",
       "2016-04-03    0.038392\n",
       "2016-04-04    0.036743\n",
       "2016-04-05    0.013258\n",
       "2016-04-06    0.003231\n",
       "2016-04-07    0.001426\n",
       "Name: date_crawled, dtype: float64"
      ]
     },
     "execution_count": 32,
     "metadata": {},
     "output_type": "execute_result"
    }
   ],
   "source": [
    "date_crawled_clean = autos['date_crawled'].str[:10]\n",
    "date_crawled_clean.value_counts(normalize=True, dropna=False).sort_index(ascending=True)"
   ]
  },
  {
   "cell_type": "markdown",
   "metadata": {},
   "source": [
    "The dates added by the crawler seem to be normally distributed."
   ]
  },
  {
   "cell_type": "code",
   "execution_count": 33,
   "metadata": {
    "scrolled": true
   },
   "outputs": [
    {
     "data": {
      "text/plain": [
       "2015-08-10    0.000022\n",
       "2015-09-09    0.000022\n",
       "2015-11-10    0.000022\n",
       "2015-12-05    0.000022\n",
       "2015-12-30    0.000022\n",
       "                ...   \n",
       "2016-04-03    0.038660\n",
       "2016-04-04    0.037189\n",
       "2016-04-05    0.011921\n",
       "2016-04-06    0.003298\n",
       "2016-04-07    0.001292\n",
       "Name: ad_created, Length: 73, dtype: float64"
      ]
     },
     "execution_count": 33,
     "metadata": {},
     "output_type": "execute_result"
    }
   ],
   "source": [
    "ad_dates_cleaned = autos['ad_created'].str[:10]\n",
    "ad_dates_cleaned.value_counts(normalize=True, dropna=False).sort_index(ascending=True)"
   ]
  },
  {
   "cell_type": "markdown",
   "metadata": {},
   "source": [
    "The dates when the ads were created also seem to be normally distributed."
   ]
  },
  {
   "cell_type": "code",
   "execution_count": 34,
   "metadata": {},
   "outputs": [
    {
     "data": {
      "text/plain": [
       "2016-03-05    0.001070\n",
       "2016-03-06    0.004657\n",
       "2016-03-07    0.005660\n",
       "2016-03-18    0.007509\n",
       "2016-03-08    0.008088\n",
       "2016-03-13    0.009247\n",
       "2016-03-09    0.010272\n",
       "2016-03-10    0.010963\n",
       "2016-03-14    0.012968\n",
       "2016-03-11    0.013302\n",
       "2016-03-15    0.016155\n",
       "2016-03-27    0.016377\n",
       "2016-03-19    0.016444\n",
       "2016-03-16    0.016934\n",
       "2016-03-26    0.017202\n",
       "2016-03-23    0.018962\n",
       "2016-03-25    0.019787\n",
       "2016-03-24    0.020254\n",
       "2016-03-21    0.021279\n",
       "2016-03-28    0.021525\n",
       "2016-03-20    0.021547\n",
       "2016-03-22    0.022059\n",
       "2016-03-29    0.023218\n",
       "2016-04-01    0.023686\n",
       "2016-03-12    0.024310\n",
       "2016-03-31    0.024354\n",
       "2016-04-02    0.025112\n",
       "2016-04-04    0.025223\n",
       "2016-04-03    0.025402\n",
       "2016-03-30    0.025558\n",
       "2016-03-17    0.028878\n",
       "2016-04-05    0.120881\n",
       "2016-04-07    0.125760\n",
       "2016-04-06    0.215357\n",
       "Name: last_seen, dtype: float64"
      ]
     },
     "execution_count": 34,
     "metadata": {},
     "output_type": "execute_result"
    }
   ],
   "source": [
    "last_seen_dates = autos['last_seen'].str[:10]\n",
    "last_seen_dates.value_counts(normalize=True, dropna=False).sort_values(ascending=True)"
   ]
  },
  {
   "cell_type": "markdown",
   "metadata": {},
   "source": [
    "Last seen dates tends to be more prominent in recent dates compared to previous/past days."
   ]
  },
  {
   "cell_type": "code",
   "execution_count": 35,
   "metadata": {},
   "outputs": [
    {
     "data": {
      "text/plain": [
       "count    44879.000000\n",
       "mean      2003.108336\n",
       "std         33.767519\n",
       "min       1910.000000\n",
       "25%       1999.000000\n",
       "50%       2003.000000\n",
       "75%       2007.000000\n",
       "max       9000.000000\n",
       "Name: registration_year, dtype: float64"
      ]
     },
     "execution_count": 35,
     "metadata": {},
     "output_type": "execute_result"
    }
   ],
   "source": [
    "autos['registration_year'].describe()"
   ]
  },
  {
   "cell_type": "markdown",
   "metadata": {},
   "source": [
    "The max value in the registration year is not a valid year."
   ]
  },
  {
   "cell_type": "markdown",
   "metadata": {},
   "source": [
    "### Cleaning the Year Columns\n",
    "\n",
    "Since we've identified anomalies in the registration years, we'll be making changes for these columns. \n",
    "\n",
    "We'll first check which years are acceptable as min and max years"
   ]
  },
  {
   "cell_type": "code",
   "execution_count": 36,
   "metadata": {
    "scrolled": true
   },
   "outputs": [
    {
     "data": {
      "text/plain": [
       "1952     1\n",
       "9000     1\n",
       "1934     1\n",
       "1950     1\n",
       "1953     1\n",
       "1948     1\n",
       "1937     1\n",
       "1910     2\n",
       "1954     2\n",
       "1962     2\n",
       "2019     2\n",
       "1961     2\n",
       "1956     3\n",
       "1958     3\n",
       "1959     4\n",
       "2015     5\n",
       "1963     7\n",
       "1964     8\n",
       "1968    11\n",
       "1969    11\n",
       "Name: registration_year, dtype: int64"
      ]
     },
     "execution_count": 36,
     "metadata": {},
     "output_type": "execute_result"
    }
   ],
   "source": [
    "autos['registration_year'].value_counts().sort_values(ascending=True).head(20)"
   ]
  },
  {
   "cell_type": "markdown",
   "metadata": {},
   "source": [
    "1900 - 2016 seem to be the optimal interval. We'll know be using these values to filter out the dataset below:"
   ]
  },
  {
   "cell_type": "code",
   "execution_count": 37,
   "metadata": {},
   "outputs": [],
   "source": [
    "autos = autos[autos['registration_year'].between(1900, 2016)]"
   ]
  },
  {
   "cell_type": "code",
   "execution_count": 38,
   "metadata": {
    "scrolled": true
   },
   "outputs": [
    {
     "data": {
      "text/plain": [
       "2000    3200\n",
       "1999    2927\n",
       "2005    2903\n",
       "2003    2677\n",
       "2004    2670\n",
       "        ... \n",
       "1937       1\n",
       "1953       1\n",
       "1948       1\n",
       "1950       1\n",
       "1952       1\n",
       "Name: registration_year, Length: 68, dtype: int64"
      ]
     },
     "execution_count": 38,
     "metadata": {},
     "output_type": "execute_result"
    }
   ],
   "source": [
    "autos['registration_year'].value_counts()"
   ]
  },
  {
   "cell_type": "markdown",
   "metadata": {},
   "source": [
    "### Exploring variations in top brands\n",
    "\n",
    "We'll be exploring one of the analysis techniques which is aggregation. We'll start in this dataset by picking out the brands that make up more than 5% of the total dataset:"
   ]
  },
  {
   "cell_type": "code",
   "execution_count": 39,
   "metadata": {},
   "outputs": [
    {
     "data": {
      "text/plain": [
       "Index(['volkswagen', 'opel', 'bmw', 'mercedes_benz', 'audi', 'ford',\n",
       "       'renault'],\n",
       "      dtype='object')"
      ]
     },
     "execution_count": 39,
     "metadata": {},
     "output_type": "execute_result"
    }
   ],
   "source": [
    "autos['brand'].value_counts(normalize=True, dropna=False).head(7).index"
   ]
  },
  {
   "cell_type": "markdown",
   "metadata": {},
   "source": [
    "The following brands of cars that were chosen are:\n",
    "\n",
    "- volkswagen\n",
    "- opel\n",
    "- bmw\n",
    "- mercedes_benz\n",
    "- ford\n",
    "- audi\n",
    "- renault"
   ]
  },
  {
   "cell_type": "markdown",
   "metadata": {},
   "source": [
    "We'll now explore the top brands based on average price:"
   ]
  },
  {
   "cell_type": "code",
   "execution_count": 40,
   "metadata": {},
   "outputs": [
    {
     "name": "stdout",
     "output_type": "stream",
     "text": [
      "{'volkswagen': 4257.953316162267, 'opel': 2561.8433340159736, 'bmw': 6138.046778651924, 'mercedes_benz': 5886.9754139488205, 'audi': 6178.438873239436, 'ford': 2869.277202072539, 'renault': 2048.757363253857}\n"
     ]
    }
   ],
   "source": [
    "top_brands = autos['brand'].value_counts(normalize=True, dropna=False).head(7).index\n",
    "aggregated_prices = {}\n",
    "\n",
    "for brand in top_brands:\n",
    "    selected_rows = autos[autos['brand'] == brand]\n",
    "    mean_price = selected_rows['price'].mean()\n",
    "    aggregated_prices[brand] = mean_price\n",
    "    \n",
    "print(aggregated_prices)"
   ]
  },
  {
   "cell_type": "markdown",
   "metadata": {},
   "source": [
    "Looking at the aggregated data below, we can see that each brand as a corresponding average price. Based on the top brands below, the brand with the highest average price is the BMW whereas the brand with the lowest price is the Renault.\n",
    "\n",
    "To summarize, here are the findings of the following brands:\n",
    "- The top brands based on average price are BMW, Mercedez Benz, and Audi\n",
    "- Ford, Opel, and Renault are the least expensive brands.\n",
    "- Volkswagen is in between."
   ]
  },
  {
   "cell_type": "code",
   "execution_count": 41,
   "metadata": {
    "scrolled": false
   },
   "outputs": [
    {
     "data": {
      "text/plain": [
       "{'volkswagen': 4257.953316162267,\n",
       " 'opel': 2561.8433340159736,\n",
       " 'bmw': 6138.046778651924,\n",
       " 'mercedes_benz': 5886.9754139488205,\n",
       " 'audi': 6178.438873239436,\n",
       " 'ford': 2869.277202072539,\n",
       " 'renault': 2048.757363253857}"
      ]
     },
     "execution_count": 41,
     "metadata": {},
     "output_type": "execute_result"
    }
   ],
   "source": [
    "aggregated_prices"
   ]
  },
  {
   "cell_type": "markdown",
   "metadata": {},
   "source": [
    "Since there is a price gap within the top 6 brands, we'll use aggregation to understand the the average mileage for those cars and if there's any visible link with mean price.\n",
    "\n",
    "We'll use the same process as above in computing the average price:"
   ]
  },
  {
   "cell_type": "code",
   "execution_count": 42,
   "metadata": {
    "scrolled": true
   },
   "outputs": [
    {
     "name": "stdout",
     "output_type": "stream",
     "text": [
      "{'volkswagen': 85341.15237336338, 'opel': 84598.96812717592, 'bmw': 87464.93769934085, 'mercedes_benz': 87112.75347842449, 'audi': 87734.08451830984, 'ford': 82158.60728626943, 'renault': 83781.95891070594}\n"
     ]
    },
    {
     "name": "stderr",
     "output_type": "stream",
     "text": [
      "<ipython-input-42-d73e0db30ef1>:5: SettingWithCopyWarning: \n",
      "A value is trying to be set on a copy of a slice from a DataFrame.\n",
      "Try using .loc[row_indexer,col_indexer] = value instead\n",
      "\n",
      "See the caveats in the documentation: https://pandas.pydata.org/pandas-docs/stable/user_guide/indexing.html#returning-a-view-versus-a-copy\n",
      "  selected_rows['odometer_km'] = selected_rows['odometer_km'] * 0.621371\n"
     ]
    }
   ],
   "source": [
    "aggregated_miles = {}\n",
    "\n",
    "for brand in top_brands:\n",
    "    selected_rows = autos[autos['brand'] == brand]\n",
    "    selected_rows['odometer_km'] = selected_rows['odometer_km'] * 0.621371\n",
    "    mean_price = selected_rows['odometer_km'].mean()\n",
    "    aggregated_miles[brand] = mean_price\n",
    "    \n",
    "print(aggregated_miles)"
   ]
  },
  {
   "cell_type": "code",
   "execution_count": 43,
   "metadata": {},
   "outputs": [],
   "source": [
    "mileage = pd.Series(aggregated_miles)\n",
    "avg_price = pd.Series(aggregated_prices)"
   ]
  },
  {
   "cell_type": "markdown",
   "metadata": {},
   "source": [
    "Based on the final output below, as the number of miles travelled per brand increases, the price of the brand also increases. This confirms that there is indeed a relationship between price and mileage."
   ]
  },
  {
   "cell_type": "code",
   "execution_count": 44,
   "metadata": {
    "scrolled": true
   },
   "outputs": [
    {
     "data": {
      "text/html": [
       "<div>\n",
       "<style scoped>\n",
       "    .dataframe tbody tr th:only-of-type {\n",
       "        vertical-align: middle;\n",
       "    }\n",
       "\n",
       "    .dataframe tbody tr th {\n",
       "        vertical-align: top;\n",
       "    }\n",
       "\n",
       "    .dataframe thead th {\n",
       "        text-align: right;\n",
       "    }\n",
       "</style>\n",
       "<table border=\"1\" class=\"dataframe\">\n",
       "  <thead>\n",
       "    <tr style=\"text-align: right;\">\n",
       "      <th></th>\n",
       "      <th>price</th>\n",
       "      <th>miles</th>\n",
       "    </tr>\n",
       "  </thead>\n",
       "  <tbody>\n",
       "    <tr>\n",
       "      <th>volkswagen</th>\n",
       "      <td>4257.953316</td>\n",
       "      <td>85341.152373</td>\n",
       "    </tr>\n",
       "    <tr>\n",
       "      <th>opel</th>\n",
       "      <td>2561.843334</td>\n",
       "      <td>84598.968127</td>\n",
       "    </tr>\n",
       "    <tr>\n",
       "      <th>bmw</th>\n",
       "      <td>6138.046779</td>\n",
       "      <td>87464.937699</td>\n",
       "    </tr>\n",
       "    <tr>\n",
       "      <th>mercedes_benz</th>\n",
       "      <td>5886.975414</td>\n",
       "      <td>87112.753478</td>\n",
       "    </tr>\n",
       "    <tr>\n",
       "      <th>audi</th>\n",
       "      <td>6178.438873</td>\n",
       "      <td>87734.084518</td>\n",
       "    </tr>\n",
       "    <tr>\n",
       "      <th>ford</th>\n",
       "      <td>2869.277202</td>\n",
       "      <td>82158.607286</td>\n",
       "    </tr>\n",
       "    <tr>\n",
       "      <th>renault</th>\n",
       "      <td>2048.757363</td>\n",
       "      <td>83781.958911</td>\n",
       "    </tr>\n",
       "  </tbody>\n",
       "</table>\n",
       "</div>"
      ],
      "text/plain": [
       "                     price         miles\n",
       "volkswagen     4257.953316  85341.152373\n",
       "opel           2561.843334  84598.968127\n",
       "bmw            6138.046779  87464.937699\n",
       "mercedes_benz  5886.975414  87112.753478\n",
       "audi           6178.438873  87734.084518\n",
       "ford           2869.277202  82158.607286\n",
       "renault        2048.757363  83781.958911"
      ]
     },
     "execution_count": 44,
     "metadata": {},
     "output_type": "execute_result"
    }
   ],
   "source": [
    "df = pd.DataFrame(avg_price, columns = ['price'])\n",
    "df['miles'] = mileage\n",
    "\n",
    "df"
   ]
  },
  {
   "cell_type": "markdown",
   "metadata": {},
   "source": [
    "## Bonus: Additional Data Cleaning Actions"
   ]
  },
  {
   "cell_type": "markdown",
   "metadata": {},
   "source": [
    "### Translating columns with German words into English:"
   ]
  },
  {
   "cell_type": "markdown",
   "metadata": {},
   "source": [
    "Selecting columns with German words:"
   ]
  },
  {
   "cell_type": "code",
   "execution_count": 45,
   "metadata": {},
   "outputs": [
    {
     "data": {
      "text/html": [
       "<div>\n",
       "<style scoped>\n",
       "    .dataframe tbody tr th:only-of-type {\n",
       "        vertical-align: middle;\n",
       "    }\n",
       "\n",
       "    .dataframe tbody tr th {\n",
       "        vertical-align: top;\n",
       "    }\n",
       "\n",
       "    .dataframe thead th {\n",
       "        text-align: right;\n",
       "    }\n",
       "</style>\n",
       "<table border=\"1\" class=\"dataframe\">\n",
       "  <thead>\n",
       "    <tr style=\"text-align: right;\">\n",
       "      <th></th>\n",
       "      <th>unrepaired_damage</th>\n",
       "      <th>gearbox</th>\n",
       "      <th>vehicle_type</th>\n",
       "    </tr>\n",
       "  </thead>\n",
       "  <tbody>\n",
       "    <tr>\n",
       "      <th>0</th>\n",
       "      <td>nein</td>\n",
       "      <td>manuell</td>\n",
       "      <td>bus</td>\n",
       "    </tr>\n",
       "    <tr>\n",
       "      <th>1</th>\n",
       "      <td>nein</td>\n",
       "      <td>automatik</td>\n",
       "      <td>limousine</td>\n",
       "    </tr>\n",
       "    <tr>\n",
       "      <th>2</th>\n",
       "      <td>nein</td>\n",
       "      <td>manuell</td>\n",
       "      <td>limousine</td>\n",
       "    </tr>\n",
       "    <tr>\n",
       "      <th>3</th>\n",
       "      <td>nein</td>\n",
       "      <td>automatik</td>\n",
       "      <td>kleinwagen</td>\n",
       "    </tr>\n",
       "    <tr>\n",
       "      <th>4</th>\n",
       "      <td>nein</td>\n",
       "      <td>manuell</td>\n",
       "      <td>kombi</td>\n",
       "    </tr>\n",
       "    <tr>\n",
       "      <th>...</th>\n",
       "      <td>...</td>\n",
       "      <td>...</td>\n",
       "      <td>...</td>\n",
       "    </tr>\n",
       "    <tr>\n",
       "      <th>49992</th>\n",
       "      <td>nein</td>\n",
       "      <td>manuell</td>\n",
       "      <td>kleinwagen</td>\n",
       "    </tr>\n",
       "    <tr>\n",
       "      <th>49993</th>\n",
       "      <td>NaN</td>\n",
       "      <td>manuell</td>\n",
       "      <td>kleinwagen</td>\n",
       "    </tr>\n",
       "    <tr>\n",
       "      <th>49994</th>\n",
       "      <td>nein</td>\n",
       "      <td>automatik</td>\n",
       "      <td>kombi</td>\n",
       "    </tr>\n",
       "    <tr>\n",
       "      <th>49996</th>\n",
       "      <td>nein</td>\n",
       "      <td>manuell</td>\n",
       "      <td>cabrio</td>\n",
       "    </tr>\n",
       "    <tr>\n",
       "      <th>49999</th>\n",
       "      <td>nein</td>\n",
       "      <td>manuell</td>\n",
       "      <td>limousine</td>\n",
       "    </tr>\n",
       "  </tbody>\n",
       "</table>\n",
       "<p>43048 rows × 3 columns</p>\n",
       "</div>"
      ],
      "text/plain": [
       "      unrepaired_damage    gearbox vehicle_type\n",
       "0                  nein    manuell          bus\n",
       "1                  nein  automatik    limousine\n",
       "2                  nein    manuell    limousine\n",
       "3                  nein  automatik   kleinwagen\n",
       "4                  nein    manuell        kombi\n",
       "...                 ...        ...          ...\n",
       "49992              nein    manuell   kleinwagen\n",
       "49993               NaN    manuell   kleinwagen\n",
       "49994              nein  automatik        kombi\n",
       "49996              nein    manuell       cabrio\n",
       "49999              nein    manuell    limousine\n",
       "\n",
       "[43048 rows x 3 columns]"
      ]
     },
     "execution_count": 45,
     "metadata": {},
     "output_type": "execute_result"
    }
   ],
   "source": [
    "autos[['unrepaired_damage', 'gearbox', 'vehicle_type']]"
   ]
  },
  {
   "cell_type": "markdown",
   "metadata": {},
   "source": [
    "Translating responses to \"yes\" and \"no\":"
   ]
  },
  {
   "cell_type": "code",
   "execution_count": 46,
   "metadata": {},
   "outputs": [
    {
     "data": {
      "text/plain": [
       "Index(['nein', 'ja'], dtype='object')"
      ]
     },
     "execution_count": 46,
     "metadata": {},
     "output_type": "execute_result"
    }
   ],
   "source": [
    "autos['unrepaired_damage'].value_counts().index"
   ]
  },
  {
   "cell_type": "code",
   "execution_count": 47,
   "metadata": {},
   "outputs": [
    {
     "data": {
      "text/plain": [
       "0         no\n",
       "1         no\n",
       "2         no\n",
       "3         no\n",
       "4         no\n",
       "        ... \n",
       "49992     no\n",
       "49993    NaN\n",
       "49994     no\n",
       "49996     no\n",
       "49999     no\n",
       "Name: unrepaired_damage, Length: 43048, dtype: object"
      ]
     },
     "execution_count": 47,
     "metadata": {},
     "output_type": "execute_result"
    }
   ],
   "source": [
    "autos_ud = {'nein':'no', \n",
    "           'ja':'yes'}\n",
    "\n",
    "autos['unrepaired_damage'] = autos['unrepaired_damage'].map(autos_ud)\n",
    "autos['unrepaired_damage']"
   ]
  },
  {
   "cell_type": "markdown",
   "metadata": {},
   "source": [
    "Translating common transmitions to \"automatic\" and \"manual\":"
   ]
  },
  {
   "cell_type": "code",
   "execution_count": 48,
   "metadata": {},
   "outputs": [
    {
     "data": {
      "text/plain": [
       "Index(['manuell', 'automatik'], dtype='object')"
      ]
     },
     "execution_count": 48,
     "metadata": {},
     "output_type": "execute_result"
    }
   ],
   "source": [
    "autos['gearbox'].value_counts().index"
   ]
  },
  {
   "cell_type": "code",
   "execution_count": 49,
   "metadata": {},
   "outputs": [
    {
     "data": {
      "text/plain": [
       "0           manual\n",
       "1        automatic\n",
       "2           manual\n",
       "3        automatic\n",
       "4           manual\n",
       "           ...    \n",
       "49992       manual\n",
       "49993       manual\n",
       "49994    automatic\n",
       "49996       manual\n",
       "49999       manual\n",
       "Name: gearbox, Length: 43048, dtype: object"
      ]
     },
     "execution_count": 49,
     "metadata": {},
     "output_type": "execute_result"
    }
   ],
   "source": [
    "autos_gearbox = {'manuell':'manual', \n",
    "           'automatik':'automatic'}\n",
    "\n",
    "autos['gearbox'] = autos['gearbox'].map(autos_gearbox)\n",
    "autos['gearbox']"
   ]
  },
  {
   "cell_type": "markdown",
   "metadata": {},
   "source": [
    "Translating some vehicle types to English:"
   ]
  },
  {
   "cell_type": "code",
   "execution_count": 50,
   "metadata": {
    "scrolled": true
   },
   "outputs": [
    {
     "data": {
      "text/plain": [
       "Index(['limousine', 'kleinwagen', 'kombi', 'bus', 'cabrio', 'coupe', 'suv',\n",
       "       'andere'],\n",
       "      dtype='object')"
      ]
     },
     "execution_count": 50,
     "metadata": {},
     "output_type": "execute_result"
    }
   ],
   "source": [
    "autos['vehicle_type'].value_counts().index"
   ]
  },
  {
   "cell_type": "code",
   "execution_count": 51,
   "metadata": {},
   "outputs": [
    {
     "data": {
      "text/plain": [
       "0                              bus\n",
       "1                        limousine\n",
       "2                        limousine\n",
       "3                        small car\n",
       "4        combination motor vehicle\n",
       "                   ...            \n",
       "49992                    small car\n",
       "49993                    small car\n",
       "49994    combination motor vehicle\n",
       "49996                  convertible\n",
       "49999                    limousine\n",
       "Name: vehicle_type, Length: 43048, dtype: object"
      ]
     },
     "execution_count": 51,
     "metadata": {},
     "output_type": "execute_result"
    }
   ],
   "source": [
    "autos_vehicle_type = {'limousine':'limousine', \n",
    "           'kleinwagen':'small car',\n",
    "           'kombi':'combination motor vehicle',\n",
    "            'bus':'bus',\n",
    "            'cabrio':'convertible',\n",
    "            'coupe':'coupe',\n",
    "             'suv':'suv',\n",
    "             'andere':'andere'}\n",
    "\n",
    "autos['vehicle_type'] = autos['vehicle_type'].map(autos_vehicle_type)\n",
    "autos['vehicle_type']"
   ]
  },
  {
   "cell_type": "markdown",
   "metadata": {},
   "source": [
    "Translating the seller types to English counterparts:"
   ]
  },
  {
   "cell_type": "code",
   "execution_count": 52,
   "metadata": {
    "scrolled": false
   },
   "outputs": [
    {
     "data": {
      "text/plain": [
       "privat        43047\n",
       "gewerblich        1\n",
       "Name: seller, dtype: int64"
      ]
     },
     "execution_count": 52,
     "metadata": {},
     "output_type": "execute_result"
    }
   ],
   "source": [
    "autos['seller'].value_counts()"
   ]
  },
  {
   "cell_type": "code",
   "execution_count": 53,
   "metadata": {},
   "outputs": [
    {
     "data": {
      "text/plain": [
       "private       43047\n",
       "commercial        1\n",
       "Name: seller, dtype: int64"
      ]
     },
     "execution_count": 53,
     "metadata": {},
     "output_type": "execute_result"
    }
   ],
   "source": [
    "seller_renamed = {\n",
    "    'privat':'private',\n",
    "    'gewerblich':'commercial'\n",
    "}\n",
    "autos['seller'] = autos['seller'].map(seller_renamed)\n",
    "autos['seller'].value_counts()"
   ]
  },
  {
   "cell_type": "markdown",
   "metadata": {},
   "source": [
    "Translating the offer types to English counterparts:"
   ]
  },
  {
   "cell_type": "code",
   "execution_count": 54,
   "metadata": {
    "scrolled": true
   },
   "outputs": [
    {
     "data": {
      "text/plain": [
       "Angebot    43047\n",
       "Gesuch         1\n",
       "Name: offer_type, dtype: int64"
      ]
     },
     "execution_count": 54,
     "metadata": {},
     "output_type": "execute_result"
    }
   ],
   "source": [
    "autos['offer_type'].value_counts()"
   ]
  },
  {
   "cell_type": "code",
   "execution_count": 55,
   "metadata": {},
   "outputs": [
    {
     "data": {
      "text/plain": [
       "offer       43047\n",
       "searched        1\n",
       "Name: offer_type, dtype: int64"
      ]
     },
     "execution_count": 55,
     "metadata": {},
     "output_type": "execute_result"
    }
   ],
   "source": [
    "offer_renamed = {\n",
    "    'Angebot':'offer',\n",
    "    'Gesuch':'searched'\n",
    "}\n",
    "autos['offer_type'] = autos['offer_type'].map(offer_renamed)\n",
    "autos['offer_type'].value_counts()"
   ]
  },
  {
   "cell_type": "markdown",
   "metadata": {},
   "source": [
    "Translating the 'andere' to others:"
   ]
  },
  {
   "cell_type": "code",
   "execution_count": 56,
   "metadata": {
    "scrolled": true
   },
   "outputs": [
    {
     "data": {
      "text/plain": [
       "golf                  3507\n",
       "andere                2952\n",
       "3er                   2519\n",
       "polo                  1579\n",
       "corsa                 1561\n",
       "                      ... \n",
       "range_rover_evoque       1\n",
       "i3                       1\n",
       "200                      1\n",
       "gl                       1\n",
       "b_max                    1\n",
       "Name: model, Length: 242, dtype: int64"
      ]
     },
     "execution_count": 56,
     "metadata": {},
     "output_type": "execute_result"
    }
   ],
   "source": [
    "autos['model'].value_counts()"
   ]
  },
  {
   "cell_type": "code",
   "execution_count": 57,
   "metadata": {},
   "outputs": [
    {
     "data": {
      "text/plain": [
       "['golf',\n",
       " 'andere',\n",
       " '3er',\n",
       " 'polo',\n",
       " 'corsa',\n",
       " 'passat',\n",
       " 'astra',\n",
       " 'a4',\n",
       " '5er',\n",
       " 'c_klasse',\n",
       " 'e_klasse',\n",
       " 'a3',\n",
       " 'a6',\n",
       " 'focus',\n",
       " 'fiesta',\n",
       " 'twingo',\n",
       " 'transporter',\n",
       " '2_reihe',\n",
       " 'vectra',\n",
       " 'a_klasse',\n",
       " '3_reihe',\n",
       " 'mondeo',\n",
       " 'fortwo',\n",
       " 'clio',\n",
       " '1er',\n",
       " 'punto',\n",
       " 'touran',\n",
       " 'zafira',\n",
       " 'ka',\n",
       " 'megane',\n",
       " 'lupo',\n",
       " 'ibiza',\n",
       " 'octavia',\n",
       " 'fabia',\n",
       " 'clk',\n",
       " 'micra',\n",
       " 'cooper',\n",
       " 'sharan',\n",
       " '80',\n",
       " 'x_reihe',\n",
       " 'caddy',\n",
       " 'scenic',\n",
       " 'omega',\n",
       " 'laguna',\n",
       " 'leon',\n",
       " 'civic',\n",
       " '6_reihe',\n",
       " 'galaxy',\n",
       " '1_reihe',\n",
       " 'slk',\n",
       " 'i_reihe',\n",
       " 'meriva',\n",
       " 'm_klasse',\n",
       " 'yaris',\n",
       " 'vito',\n",
       " '7er',\n",
       " 'tt',\n",
       " 'beetle',\n",
       " 's_klasse',\n",
       " 'colt',\n",
       " 'mx_reihe',\n",
       " 'b_klasse',\n",
       " 'arosa',\n",
       " 'transit',\n",
       " 'escort',\n",
       " 'bora',\n",
       " 'kangoo',\n",
       " 'berlingo',\n",
       " 'z_reihe',\n",
       " 'almera',\n",
       " 'v70',\n",
       " 'sprinter',\n",
       " 'v40',\n",
       " '156',\n",
       " 'tigra',\n",
       " 'corolla',\n",
       " 'espace',\n",
       " 'one',\n",
       " 'fox',\n",
       " '147',\n",
       " 'grand',\n",
       " 'primera',\n",
       " 'swift',\n",
       " 'seicento',\n",
       " 'scirocco',\n",
       " 'insignia',\n",
       " '4_reihe',\n",
       " 'tiguan',\n",
       " 'stilo',\n",
       " 'touareg',\n",
       " 'avensis',\n",
       " 'c_max',\n",
       " 'c5',\n",
       " 'panda',\n",
       " '500',\n",
       " 'signum',\n",
       " 'a5',\n",
       " 'c3',\n",
       " 'a8',\n",
       " '100',\n",
       " 'carisma',\n",
       " 'qashqai',\n",
       " 'cuore',\n",
       " 'eos',\n",
       " 'c4',\n",
       " 'ducato',\n",
       " 'agila',\n",
       " 'matiz',\n",
       " '5_reihe',\n",
       " 'sorento',\n",
       " 'cr_reihe',\n",
       " 'sl',\n",
       " 'combo',\n",
       " 'aygo',\n",
       " 'c2',\n",
       " 'getz',\n",
       " 'vivaro',\n",
       " 'voyager',\n",
       " 'kaefer',\n",
       " 'forfour',\n",
       " 'rav',\n",
       " 's_max',\n",
       " 'santa',\n",
       " 'a2',\n",
       " 'superb',\n",
       " 'doblo',\n",
       " 'bravo',\n",
       " 'xc_reihe',\n",
       " 'c1',\n",
       " 'cordoba',\n",
       " 'kadett',\n",
       " 'accord',\n",
       " 'altea',\n",
       " 'alhambra',\n",
       " 'verso',\n",
       " 'picanto',\n",
       " 'toledo',\n",
       " 'a1',\n",
       " 'jetta',\n",
       " 'logan',\n",
       " 'sportage',\n",
       " 'rio',\n",
       " 'ptcruiser',\n",
       " 'viano',\n",
       " 'x_trail',\n",
       " '159',\n",
       " 'freelander',\n",
       " 'spider',\n",
       " 'roomster',\n",
       " 'cl',\n",
       " 'roadster',\n",
       " 'legacy',\n",
       " 'jazz',\n",
       " 'mustang',\n",
       " 'carnival',\n",
       " 'v50',\n",
       " 'modus',\n",
       " 'fusion',\n",
       " '850',\n",
       " 'sandero',\n",
       " '601',\n",
       " 'cayenne',\n",
       " 'c_reihe',\n",
       " 'pajero',\n",
       " 'q7',\n",
       " 'phaeton',\n",
       " 'boxster',\n",
       " 'tucson',\n",
       " 'kuga',\n",
       " 'auris',\n",
       " 'jimny',\n",
       " 'ceed',\n",
       " 'galant',\n",
       " 'up',\n",
       " 'impreza',\n",
       " 'captiva',\n",
       " 'rx_reihe',\n",
       " 'v_klasse',\n",
       " 'lancer',\n",
       " 'calibra',\n",
       " 'clubman',\n",
       " 'ypsilon',\n",
       " 'cherokee',\n",
       " 'antara',\n",
       " '6er',\n",
       " 'note',\n",
       " 'x_type',\n",
       " 'justy',\n",
       " 'aveo',\n",
       " 'm_reihe',\n",
       " 'duster',\n",
       " 'navara',\n",
       " 'cc',\n",
       " 'outlander',\n",
       " 'wrangler',\n",
       " 's60',\n",
       " 'kalos',\n",
       " '900',\n",
       " 'yeti',\n",
       " 's_type',\n",
       " 'niva',\n",
       " 'g_klasse',\n",
       " 'forester',\n",
       " 'spark',\n",
       " 'sirion',\n",
       " 'discovery',\n",
       " '300c',\n",
       " '911',\n",
       " 'defender',\n",
       " 'r19',\n",
       " 'juke',\n",
       " 'lanos',\n",
       " 'q5',\n",
       " 'terios',\n",
       " 'lybra',\n",
       " '90',\n",
       " 'nubira',\n",
       " 'cx_reihe',\n",
       " 'move',\n",
       " 'exeo',\n",
       " 'range_rover',\n",
       " 'crossfire',\n",
       " '9000',\n",
       " 'citigo',\n",
       " 'range_rover_sport',\n",
       " 'samara',\n",
       " 'glk',\n",
       " 'croma',\n",
       " 'materia',\n",
       " 'charade',\n",
       " 'delta',\n",
       " '145',\n",
       " 'kappa',\n",
       " 'q3',\n",
       " 'v60',\n",
       " 'mii',\n",
       " 'lodgy',\n",
       " 'range_rover_evoque',\n",
       " 'i3',\n",
       " '200',\n",
       " 'gl',\n",
       " 'b_max']"
      ]
     },
     "execution_count": 57,
     "metadata": {},
     "output_type": "execute_result"
    }
   ],
   "source": [
    "all_models = autos['model'].value_counts().index.tolist()\n",
    "all_models"
   ]
  },
  {
   "cell_type": "code",
   "execution_count": 58,
   "metadata": {},
   "outputs": [
    {
     "data": {
      "text/plain": [
       "{'golf': 'golf',\n",
       " 'andere': 'others',\n",
       " '3er': '3er',\n",
       " 'polo': 'polo',\n",
       " 'corsa': 'corsa',\n",
       " 'passat': 'passat',\n",
       " 'astra': 'astra',\n",
       " 'a4': 'a4',\n",
       " '5er': '5er',\n",
       " 'c_klasse': 'c_klasse',\n",
       " 'e_klasse': 'e_klasse',\n",
       " 'a3': 'a3',\n",
       " 'a6': 'a6',\n",
       " 'focus': 'focus',\n",
       " 'fiesta': 'fiesta',\n",
       " 'twingo': 'twingo',\n",
       " 'transporter': 'transporter',\n",
       " '2_reihe': '2_reihe',\n",
       " 'vectra': 'vectra',\n",
       " 'a_klasse': 'a_klasse',\n",
       " '3_reihe': '3_reihe',\n",
       " 'mondeo': 'mondeo',\n",
       " 'fortwo': 'fortwo',\n",
       " 'clio': 'clio',\n",
       " '1er': '1er',\n",
       " 'punto': 'punto',\n",
       " 'touran': 'touran',\n",
       " 'zafira': 'zafira',\n",
       " 'ka': 'ka',\n",
       " 'megane': 'megane',\n",
       " 'lupo': 'lupo',\n",
       " 'ibiza': 'ibiza',\n",
       " 'octavia': 'octavia',\n",
       " 'fabia': 'fabia',\n",
       " 'clk': 'clk',\n",
       " 'micra': 'micra',\n",
       " 'cooper': 'cooper',\n",
       " 'sharan': 'sharan',\n",
       " '80': '80',\n",
       " 'x_reihe': 'x_reihe',\n",
       " 'caddy': 'caddy',\n",
       " 'scenic': 'scenic',\n",
       " 'omega': 'omega',\n",
       " 'laguna': 'laguna',\n",
       " 'leon': 'leon',\n",
       " 'civic': 'civic',\n",
       " '6_reihe': '6_reihe',\n",
       " 'galaxy': 'galaxy',\n",
       " '1_reihe': '1_reihe',\n",
       " 'slk': 'slk',\n",
       " 'i_reihe': 'i_reihe',\n",
       " 'meriva': 'meriva',\n",
       " 'm_klasse': 'm_klasse',\n",
       " 'yaris': 'yaris',\n",
       " 'vito': 'vito',\n",
       " '7er': '7er',\n",
       " 'tt': 'tt',\n",
       " 'beetle': 'beetle',\n",
       " 's_klasse': 's_klasse',\n",
       " 'colt': 'colt',\n",
       " 'mx_reihe': 'mx_reihe',\n",
       " 'b_klasse': 'b_klasse',\n",
       " 'arosa': 'arosa',\n",
       " 'transit': 'transit',\n",
       " 'escort': 'escort',\n",
       " 'bora': 'bora',\n",
       " 'kangoo': 'kangoo',\n",
       " 'berlingo': 'berlingo',\n",
       " 'z_reihe': 'z_reihe',\n",
       " 'almera': 'almera',\n",
       " 'v70': 'v70',\n",
       " 'sprinter': 'sprinter',\n",
       " 'v40': 'v40',\n",
       " '156': '156',\n",
       " 'tigra': 'tigra',\n",
       " 'corolla': 'corolla',\n",
       " 'espace': 'espace',\n",
       " 'one': 'one',\n",
       " 'fox': 'fox',\n",
       " '147': '147',\n",
       " 'grand': 'grand',\n",
       " 'primera': 'primera',\n",
       " 'swift': 'swift',\n",
       " 'seicento': 'seicento',\n",
       " 'scirocco': 'scirocco',\n",
       " 'insignia': 'insignia',\n",
       " '4_reihe': '4_reihe',\n",
       " 'tiguan': 'tiguan',\n",
       " 'stilo': 'stilo',\n",
       " 'touareg': 'touareg',\n",
       " 'avensis': 'avensis',\n",
       " 'c_max': 'c_max',\n",
       " 'c5': 'c5',\n",
       " 'panda': 'panda',\n",
       " '500': '500',\n",
       " 'signum': 'signum',\n",
       " 'a5': 'a5',\n",
       " 'c3': 'c3',\n",
       " 'a8': 'a8',\n",
       " '100': '100',\n",
       " 'carisma': 'carisma',\n",
       " 'qashqai': 'qashqai',\n",
       " 'cuore': 'cuore',\n",
       " 'eos': 'eos',\n",
       " 'c4': 'c4',\n",
       " 'ducato': 'ducato',\n",
       " 'agila': 'agila',\n",
       " 'matiz': 'matiz',\n",
       " '5_reihe': '5_reihe',\n",
       " 'sorento': 'sorento',\n",
       " 'cr_reihe': 'cr_reihe',\n",
       " 'sl': 'sl',\n",
       " 'combo': 'combo',\n",
       " 'aygo': 'aygo',\n",
       " 'c2': 'c2',\n",
       " 'getz': 'getz',\n",
       " 'vivaro': 'vivaro',\n",
       " 'voyager': 'voyager',\n",
       " 'kaefer': 'kaefer',\n",
       " 'forfour': 'forfour',\n",
       " 'rav': 'rav',\n",
       " 's_max': 's_max',\n",
       " 'santa': 'santa',\n",
       " 'a2': 'a2',\n",
       " 'superb': 'superb',\n",
       " 'doblo': 'doblo',\n",
       " 'bravo': 'bravo',\n",
       " 'xc_reihe': 'xc_reihe',\n",
       " 'c1': 'c1',\n",
       " 'cordoba': 'cordoba',\n",
       " 'kadett': 'kadett',\n",
       " 'accord': 'accord',\n",
       " 'altea': 'altea',\n",
       " 'alhambra': 'alhambra',\n",
       " 'verso': 'verso',\n",
       " 'picanto': 'picanto',\n",
       " 'toledo': 'toledo',\n",
       " 'a1': 'a1',\n",
       " 'jetta': 'jetta',\n",
       " 'logan': 'logan',\n",
       " 'sportage': 'sportage',\n",
       " 'rio': 'rio',\n",
       " 'ptcruiser': 'ptcruiser',\n",
       " 'viano': 'viano',\n",
       " 'x_trail': 'x_trail',\n",
       " '159': '159',\n",
       " 'freelander': 'freelander',\n",
       " 'spider': 'spider',\n",
       " 'roomster': 'roomster',\n",
       " 'cl': 'cl',\n",
       " 'roadster': 'roadster',\n",
       " 'legacy': 'legacy',\n",
       " 'jazz': 'jazz',\n",
       " 'mustang': 'mustang',\n",
       " 'carnival': 'carnival',\n",
       " 'v50': 'v50',\n",
       " 'modus': 'modus',\n",
       " 'fusion': 'fusion',\n",
       " '850': '850',\n",
       " 'sandero': 'sandero',\n",
       " '601': '601',\n",
       " 'cayenne': 'cayenne',\n",
       " 'c_reihe': 'c_reihe',\n",
       " 'pajero': 'pajero',\n",
       " 'q7': 'q7',\n",
       " 'phaeton': 'phaeton',\n",
       " 'boxster': 'boxster',\n",
       " 'tucson': 'tucson',\n",
       " 'kuga': 'kuga',\n",
       " 'auris': 'auris',\n",
       " 'jimny': 'jimny',\n",
       " 'ceed': 'ceed',\n",
       " 'galant': 'galant',\n",
       " 'up': 'up',\n",
       " 'impreza': 'impreza',\n",
       " 'captiva': 'captiva',\n",
       " 'rx_reihe': 'rx_reihe',\n",
       " 'v_klasse': 'v_klasse',\n",
       " 'lancer': 'lancer',\n",
       " 'calibra': 'calibra',\n",
       " 'clubman': 'clubman',\n",
       " 'ypsilon': 'ypsilon',\n",
       " 'cherokee': 'cherokee',\n",
       " 'antara': 'antara',\n",
       " '6er': '6er',\n",
       " 'note': 'note',\n",
       " 'x_type': 'x_type',\n",
       " 'justy': 'justy',\n",
       " 'aveo': 'aveo',\n",
       " 'm_reihe': 'm_reihe',\n",
       " 'duster': 'duster',\n",
       " 'navara': 'navara',\n",
       " 'cc': 'cc',\n",
       " 'outlander': 'outlander',\n",
       " 'wrangler': 'wrangler',\n",
       " 's60': 's60',\n",
       " 'kalos': 'kalos',\n",
       " '900': '900',\n",
       " 'yeti': 'yeti',\n",
       " 's_type': 's_type',\n",
       " 'niva': 'niva',\n",
       " 'g_klasse': 'g_klasse',\n",
       " 'forester': 'forester',\n",
       " 'spark': 'spark',\n",
       " 'sirion': 'sirion',\n",
       " 'discovery': 'discovery',\n",
       " '300c': '300c',\n",
       " '911': '911',\n",
       " 'defender': 'defender',\n",
       " 'r19': 'r19',\n",
       " 'juke': 'juke',\n",
       " 'lanos': 'lanos',\n",
       " 'q5': 'q5',\n",
       " 'terios': 'terios',\n",
       " 'lybra': 'lybra',\n",
       " '90': '90',\n",
       " 'nubira': 'nubira',\n",
       " 'cx_reihe': 'cx_reihe',\n",
       " 'move': 'move',\n",
       " 'exeo': 'exeo',\n",
       " 'range_rover': 'range_rover',\n",
       " 'crossfire': 'crossfire',\n",
       " '9000': '9000',\n",
       " 'citigo': 'citigo',\n",
       " 'range_rover_sport': 'range_rover_sport',\n",
       " 'samara': 'samara',\n",
       " 'glk': 'glk',\n",
       " 'croma': 'croma',\n",
       " 'materia': 'materia',\n",
       " 'charade': 'charade',\n",
       " 'delta': 'delta',\n",
       " '145': '145',\n",
       " 'kappa': 'kappa',\n",
       " 'q3': 'q3',\n",
       " 'v60': 'v60',\n",
       " 'mii': 'mii',\n",
       " 'lodgy': 'lodgy',\n",
       " 'range_rover_evoque': 'range_rover_evoque',\n",
       " 'i3': 'i3',\n",
       " '200': '200',\n",
       " 'gl': 'gl',\n",
       " 'b_max': 'b_max'}"
      ]
     },
     "execution_count": 58,
     "metadata": {},
     "output_type": "execute_result"
    }
   ],
   "source": [
    "model_mapping = {}\n",
    "for ml in all_models:\n",
    "    if ml == 'andere':\n",
    "        model_mapping['andere'] = 'others'\n",
    "    else:\n",
    "        model_mapping[ml] = ml\n",
    "model_mapping"
   ]
  },
  {
   "cell_type": "code",
   "execution_count": 59,
   "metadata": {},
   "outputs": [
    {
     "data": {
      "text/plain": [
       "golf                  3507\n",
       "others                2952\n",
       "3er                   2519\n",
       "polo                  1579\n",
       "corsa                 1561\n",
       "                      ... \n",
       "range_rover_evoque       1\n",
       "i3                       1\n",
       "200                      1\n",
       "gl                       1\n",
       "b_max                    1\n",
       "Name: model, Length: 242, dtype: int64"
      ]
     },
     "execution_count": 59,
     "metadata": {},
     "output_type": "execute_result"
    }
   ],
   "source": [
    "autos['model'] = autos['model'].map(model_mapping)\n",
    "autos['model'].value_counts()"
   ]
  },
  {
   "cell_type": "code",
   "execution_count": 60,
   "metadata": {
    "scrolled": true
   },
   "outputs": [
    {
     "data": {
      "text/plain": [
       "benzin     26361\n",
       "diesel     12673\n",
       "lpg          645\n",
       "cng           65\n",
       "hybrid        25\n",
       "andere        12\n",
       "elektro        4\n",
       "Name: fuel_type, dtype: int64"
      ]
     },
     "execution_count": 60,
     "metadata": {},
     "output_type": "execute_result"
    }
   ],
   "source": [
    "autos['fuel_type'].value_counts()"
   ]
  },
  {
   "cell_type": "markdown",
   "metadata": {},
   "source": [
    "Translating 'andere' and 'elektro' to 'others' and 'electro'"
   ]
  },
  {
   "cell_type": "code",
   "execution_count": 61,
   "metadata": {},
   "outputs": [
    {
     "data": {
      "text/plain": [
       "{'benzin': 'benzin',\n",
       " 'diesel': 'diesel',\n",
       " 'lpg': 'lpg',\n",
       " 'cng': 'cng',\n",
       " 'hybrid': 'hybrid',\n",
       " 'andere': 'others',\n",
       " 'elektro': 'electro'}"
      ]
     },
     "execution_count": 61,
     "metadata": {},
     "output_type": "execute_result"
    }
   ],
   "source": [
    "fuel_mapping = {}\n",
    "for fuel in autos['fuel_type'].value_counts().index.tolist():\n",
    "    if fuel == 'andere':\n",
    "        fuel_mapping[fuel] = 'others'\n",
    "    elif fuel == 'elektro':\n",
    "        fuel_mapping[fuel] = 'electro'\n",
    "    else:\n",
    "        fuel_mapping[fuel] = fuel\n",
    "fuel_mapping"
   ]
  },
  {
   "cell_type": "code",
   "execution_count": 62,
   "metadata": {
    "scrolled": true
   },
   "outputs": [
    {
     "data": {
      "text/plain": [
       "0           lpg\n",
       "1        benzin\n",
       "2        benzin\n",
       "3        benzin\n",
       "4        benzin\n",
       "          ...  \n",
       "49992       lpg\n",
       "49993    benzin\n",
       "49994    benzin\n",
       "49996    benzin\n",
       "49999    benzin\n",
       "Name: fuel_type, Length: 43048, dtype: object"
      ]
     },
     "execution_count": 62,
     "metadata": {},
     "output_type": "execute_result"
    }
   ],
   "source": [
    "autos['fuel_type'] = autos['fuel_type'].map(fuel_mapping)\n",
    "autos['fuel_type']"
   ]
  },
  {
   "cell_type": "code",
   "execution_count": 63,
   "metadata": {},
   "outputs": [
    {
     "data": {
      "text/plain": [
       "benzin     26361\n",
       "diesel     12673\n",
       "lpg          645\n",
       "cng           65\n",
       "hybrid        25\n",
       "others        12\n",
       "electro        4\n",
       "Name: fuel_type, dtype: int64"
      ]
     },
     "execution_count": 63,
     "metadata": {},
     "output_type": "execute_result"
    }
   ],
   "source": [
    "autos['fuel_type'].value_counts()"
   ]
  },
  {
   "cell_type": "markdown",
   "metadata": {},
   "source": [
    "### Cleaning the dates"
   ]
  },
  {
   "cell_type": "markdown",
   "metadata": {},
   "source": [
    "Selecting the dates to be cleaned:"
   ]
  },
  {
   "cell_type": "code",
   "execution_count": 64,
   "metadata": {
    "scrolled": false
   },
   "outputs": [
    {
     "data": {
      "text/html": [
       "<div>\n",
       "<style scoped>\n",
       "    .dataframe tbody tr th:only-of-type {\n",
       "        vertical-align: middle;\n",
       "    }\n",
       "\n",
       "    .dataframe tbody tr th {\n",
       "        vertical-align: top;\n",
       "    }\n",
       "\n",
       "    .dataframe thead th {\n",
       "        text-align: right;\n",
       "    }\n",
       "</style>\n",
       "<table border=\"1\" class=\"dataframe\">\n",
       "  <thead>\n",
       "    <tr style=\"text-align: right;\">\n",
       "      <th></th>\n",
       "      <th>date_crawled</th>\n",
       "      <th>last_seen</th>\n",
       "      <th>ad_created</th>\n",
       "    </tr>\n",
       "  </thead>\n",
       "  <tbody>\n",
       "    <tr>\n",
       "      <th>0</th>\n",
       "      <td>2016-03-26 17:47:46</td>\n",
       "      <td>2016-04-06 06:45:54</td>\n",
       "      <td>2016-03-26 00:00:00</td>\n",
       "    </tr>\n",
       "    <tr>\n",
       "      <th>1</th>\n",
       "      <td>2016-04-04 13:38:56</td>\n",
       "      <td>2016-04-06 14:45:08</td>\n",
       "      <td>2016-04-04 00:00:00</td>\n",
       "    </tr>\n",
       "    <tr>\n",
       "      <th>2</th>\n",
       "      <td>2016-03-26 18:57:24</td>\n",
       "      <td>2016-04-06 20:15:37</td>\n",
       "      <td>2016-03-26 00:00:00</td>\n",
       "    </tr>\n",
       "    <tr>\n",
       "      <th>3</th>\n",
       "      <td>2016-03-12 16:58:10</td>\n",
       "      <td>2016-03-15 03:16:28</td>\n",
       "      <td>2016-03-12 00:00:00</td>\n",
       "    </tr>\n",
       "    <tr>\n",
       "      <th>4</th>\n",
       "      <td>2016-04-01 14:38:50</td>\n",
       "      <td>2016-04-01 14:38:50</td>\n",
       "      <td>2016-04-01 00:00:00</td>\n",
       "    </tr>\n",
       "  </tbody>\n",
       "</table>\n",
       "</div>"
      ],
      "text/plain": [
       "          date_crawled            last_seen           ad_created\n",
       "0  2016-03-26 17:47:46  2016-04-06 06:45:54  2016-03-26 00:00:00\n",
       "1  2016-04-04 13:38:56  2016-04-06 14:45:08  2016-04-04 00:00:00\n",
       "2  2016-03-26 18:57:24  2016-04-06 20:15:37  2016-03-26 00:00:00\n",
       "3  2016-03-12 16:58:10  2016-03-15 03:16:28  2016-03-12 00:00:00\n",
       "4  2016-04-01 14:38:50  2016-04-01 14:38:50  2016-04-01 00:00:00"
      ]
     },
     "execution_count": 64,
     "metadata": {},
     "output_type": "execute_result"
    }
   ],
   "source": [
    "autos[['date_crawled', 'last_seen', 'ad_created']].head(5)"
   ]
  },
  {
   "cell_type": "markdown",
   "metadata": {},
   "source": [
    "Turning it into numeric dates:\n",
    "\n",
    "\"2016-03-21\" -> 20160321"
   ]
  },
  {
   "cell_type": "code",
   "execution_count": 65,
   "metadata": {},
   "outputs": [
    {
     "data": {
      "text/html": [
       "<div>\n",
       "<style scoped>\n",
       "    .dataframe tbody tr th:only-of-type {\n",
       "        vertical-align: middle;\n",
       "    }\n",
       "\n",
       "    .dataframe tbody tr th {\n",
       "        vertical-align: top;\n",
       "    }\n",
       "\n",
       "    .dataframe thead th {\n",
       "        text-align: right;\n",
       "    }\n",
       "</style>\n",
       "<table border=\"1\" class=\"dataframe\">\n",
       "  <thead>\n",
       "    <tr style=\"text-align: right;\">\n",
       "      <th></th>\n",
       "      <th>date_crawled</th>\n",
       "      <th>last_seen</th>\n",
       "      <th>ad_created</th>\n",
       "    </tr>\n",
       "  </thead>\n",
       "  <tbody>\n",
       "    <tr>\n",
       "      <th>0</th>\n",
       "      <td>20160326</td>\n",
       "      <td>20160406</td>\n",
       "      <td>20160326</td>\n",
       "    </tr>\n",
       "    <tr>\n",
       "      <th>1</th>\n",
       "      <td>20160404</td>\n",
       "      <td>20160406</td>\n",
       "      <td>20160404</td>\n",
       "    </tr>\n",
       "    <tr>\n",
       "      <th>2</th>\n",
       "      <td>20160326</td>\n",
       "      <td>20160406</td>\n",
       "      <td>20160326</td>\n",
       "    </tr>\n",
       "    <tr>\n",
       "      <th>3</th>\n",
       "      <td>20160312</td>\n",
       "      <td>20160315</td>\n",
       "      <td>20160312</td>\n",
       "    </tr>\n",
       "    <tr>\n",
       "      <th>4</th>\n",
       "      <td>20160401</td>\n",
       "      <td>20160401</td>\n",
       "      <td>20160401</td>\n",
       "    </tr>\n",
       "  </tbody>\n",
       "</table>\n",
       "</div>"
      ],
      "text/plain": [
       "   date_crawled  last_seen  ad_created\n",
       "0      20160326   20160406    20160326\n",
       "1      20160404   20160406    20160404\n",
       "2      20160326   20160406    20160326\n",
       "3      20160312   20160315    20160312\n",
       "4      20160401   20160401    20160401"
      ]
     },
     "execution_count": 65,
     "metadata": {},
     "output_type": "execute_result"
    }
   ],
   "source": [
    "def date_to_num(dt):\n",
    "    dt = dt[:10]\n",
    "    dt = dt.replace(\"-\", \"\")\n",
    "    dt = int(dt)\n",
    "    return(dt)\n",
    "\n",
    "date_cols = ['date_crawled', 'last_seen', 'ad_created']\n",
    "new_dates = []\n",
    "\n",
    "for col in date_cols:\n",
    "    for dt in autos[col]:\n",
    "        dt = date_to_num(dt)\n",
    "        new_dates.append(dt)\n",
    "    autos[col] = new_dates\n",
    "    new_dates = []\n",
    "        \n",
    "autos[['date_crawled', 'last_seen', 'ad_created']].head(5)"
   ]
  },
  {
   "cell_type": "markdown",
   "metadata": {},
   "source": [
    "### Most common brand-model combinations"
   ]
  },
  {
   "cell_type": "code",
   "execution_count": 66,
   "metadata": {},
   "outputs": [
    {
     "data": {
      "text/plain": [
       "0         peugeot - others\n",
       "1                bmw - 7er\n",
       "2        volkswagen - golf\n",
       "3           smart - fortwo\n",
       "4             ford - focus\n",
       "               ...        \n",
       "49992        fiat - others\n",
       "49993                  NaN\n",
       "49994            audi - a6\n",
       "49996         opel - astra\n",
       "49999        opel - vectra\n",
       "Name: brand-model, Length: 43048, dtype: object"
      ]
     },
     "execution_count": 66,
     "metadata": {},
     "output_type": "execute_result"
    }
   ],
   "source": [
    "autos['brand-model'] = autos['brand'] + \" - \" + autos['model']\n",
    "autos['brand-model']"
   ]
  },
  {
   "cell_type": "code",
   "execution_count": 67,
   "metadata": {
    "scrolled": true
   },
   "outputs": [
    {
     "data": {
      "text/plain": [
       "volkswagen - golf           3507\n",
       "bmw - 3er                   2519\n",
       "volkswagen - polo           1579\n",
       "opel - corsa                1561\n",
       "volkswagen - passat         1334\n",
       "opel - astra                1332\n",
       "audi - a4                   1194\n",
       "bmw - 5er                   1060\n",
       "mercedes_benz - c_klasse    1048\n",
       "mercedes_benz - e_klasse     857\n",
       "Name: brand-model, dtype: int64"
      ]
     },
     "execution_count": 67,
     "metadata": {},
     "output_type": "execute_result"
    }
   ],
   "source": [
    "autos['brand-model'].value_counts().sort_values(ascending=False).head(10)"
   ]
  },
  {
   "cell_type": "code",
   "execution_count": 68,
   "metadata": {},
   "outputs": [
    {
     "data": {
      "text/html": [
       "<div>\n",
       "<style scoped>\n",
       "    .dataframe tbody tr th:only-of-type {\n",
       "        vertical-align: middle;\n",
       "    }\n",
       "\n",
       "    .dataframe tbody tr th {\n",
       "        vertical-align: top;\n",
       "    }\n",
       "\n",
       "    .dataframe thead th {\n",
       "        text-align: right;\n",
       "    }\n",
       "</style>\n",
       "<table border=\"1\" class=\"dataframe\">\n",
       "  <thead>\n",
       "    <tr style=\"text-align: right;\">\n",
       "      <th></th>\n",
       "      <th>brand</th>\n",
       "      <th>model</th>\n",
       "      <th>fuel_type</th>\n",
       "      <th>vehicle_type</th>\n",
       "    </tr>\n",
       "  </thead>\n",
       "  <tbody>\n",
       "    <tr>\n",
       "      <th>0</th>\n",
       "      <td>peugeot</td>\n",
       "      <td>others</td>\n",
       "      <td>lpg</td>\n",
       "      <td>bus</td>\n",
       "    </tr>\n",
       "    <tr>\n",
       "      <th>1</th>\n",
       "      <td>bmw</td>\n",
       "      <td>7er</td>\n",
       "      <td>benzin</td>\n",
       "      <td>limousine</td>\n",
       "    </tr>\n",
       "    <tr>\n",
       "      <th>2</th>\n",
       "      <td>volkswagen</td>\n",
       "      <td>golf</td>\n",
       "      <td>benzin</td>\n",
       "      <td>limousine</td>\n",
       "    </tr>\n",
       "    <tr>\n",
       "      <th>3</th>\n",
       "      <td>smart</td>\n",
       "      <td>fortwo</td>\n",
       "      <td>benzin</td>\n",
       "      <td>small car</td>\n",
       "    </tr>\n",
       "    <tr>\n",
       "      <th>4</th>\n",
       "      <td>ford</td>\n",
       "      <td>focus</td>\n",
       "      <td>benzin</td>\n",
       "      <td>combination motor vehicle</td>\n",
       "    </tr>\n",
       "    <tr>\n",
       "      <th>...</th>\n",
       "      <td>...</td>\n",
       "      <td>...</td>\n",
       "      <td>...</td>\n",
       "      <td>...</td>\n",
       "    </tr>\n",
       "    <tr>\n",
       "      <th>49992</th>\n",
       "      <td>fiat</td>\n",
       "      <td>others</td>\n",
       "      <td>lpg</td>\n",
       "      <td>small car</td>\n",
       "    </tr>\n",
       "    <tr>\n",
       "      <th>49993</th>\n",
       "      <td>audi</td>\n",
       "      <td>NaN</td>\n",
       "      <td>benzin</td>\n",
       "      <td>small car</td>\n",
       "    </tr>\n",
       "    <tr>\n",
       "      <th>49994</th>\n",
       "      <td>audi</td>\n",
       "      <td>a6</td>\n",
       "      <td>benzin</td>\n",
       "      <td>combination motor vehicle</td>\n",
       "    </tr>\n",
       "    <tr>\n",
       "      <th>49996</th>\n",
       "      <td>opel</td>\n",
       "      <td>astra</td>\n",
       "      <td>benzin</td>\n",
       "      <td>convertible</td>\n",
       "    </tr>\n",
       "    <tr>\n",
       "      <th>49999</th>\n",
       "      <td>opel</td>\n",
       "      <td>vectra</td>\n",
       "      <td>benzin</td>\n",
       "      <td>limousine</td>\n",
       "    </tr>\n",
       "  </tbody>\n",
       "</table>\n",
       "<p>43048 rows × 4 columns</p>\n",
       "</div>"
      ],
      "text/plain": [
       "            brand   model fuel_type               vehicle_type\n",
       "0         peugeot  others       lpg                        bus\n",
       "1             bmw     7er    benzin                  limousine\n",
       "2      volkswagen    golf    benzin                  limousine\n",
       "3           smart  fortwo    benzin                  small car\n",
       "4            ford   focus    benzin  combination motor vehicle\n",
       "...           ...     ...       ...                        ...\n",
       "49992        fiat  others       lpg                  small car\n",
       "49993        audi     NaN    benzin                  small car\n",
       "49994        audi      a6    benzin  combination motor vehicle\n",
       "49996        opel   astra    benzin                convertible\n",
       "49999        opel  vectra    benzin                  limousine\n",
       "\n",
       "[43048 rows x 4 columns]"
      ]
     },
     "execution_count": 68,
     "metadata": {},
     "output_type": "execute_result"
    }
   ],
   "source": [
    "autos[['brand', 'model', 'fuel_type', 'vehicle_type']]"
   ]
  },
  {
   "cell_type": "markdown",
   "metadata": {},
   "source": [
    "### Determining Price Patterns on Odometer Readings\n",
    "\n",
    "We'll also be using aggregation to see if certain odometer readings have any relationship with average prices of cars. Based on the readings below, as the odometer readings increase, the average price of a car decreases."
   ]
  },
  {
   "cell_type": "code",
   "execution_count": 69,
   "metadata": {},
   "outputs": [
    {
     "data": {
      "text/plain": [
       "{150000: 3381.3818584647465,\n",
       " 125000: 5155.002722513089,\n",
       " 100000: 6079.79754601227,\n",
       " 90000: 6534.750159744409,\n",
       " 80000: 7511.172985781991,\n",
       " 70000: 8064.0842105263155,\n",
       " 60000: 8283.40947368421,\n",
       " 50000: 8950.501877346684}"
      ]
     },
     "execution_count": 69,
     "metadata": {},
     "output_type": "execute_result"
    }
   ],
   "source": [
    "odometer_uniq = autos['odometer_km'].value_counts().index\n",
    "odometer_price = {}\n",
    "\n",
    "for odo in odometer_uniq:\n",
    "    selected_rows = autos[autos['odometer_km'] == odo]\n",
    "    avg_price = selected_rows['price'].mean()\n",
    "    odometer_price[odo] = avg_price\n",
    "    \n",
    "odometer_price"
   ]
  },
  {
   "cell_type": "markdown",
   "metadata": {},
   "source": [
    "### Comparing damaged cars with non-damaged cars:"
   ]
  },
  {
   "cell_type": "markdown",
   "metadata": {},
   "source": [
    "When it comes to the car's condition, non-damaged cars tend to be cheaper on average by around $3,000 compared to damaged cars"
   ]
  },
  {
   "cell_type": "code",
   "execution_count": 70,
   "metadata": {},
   "outputs": [
    {
     "data": {
      "text/plain": [
       "{'no': 5084.466074553438, 'yes': 1904.4119318181818}"
      ]
     },
     "execution_count": 70,
     "metadata": {},
     "output_type": "execute_result"
    }
   ],
   "source": [
    "responses = autos['unrepaired_damage'].value_counts().index\n",
    "price_per_cond = {}\n",
    "\n",
    "for response in responses:\n",
    "    selected_rows = autos[autos['unrepaired_damage'] == response]\n",
    "    avg_price = selected_rows['price'].mean()\n",
    "    price_per_cond[response] = avg_price\n",
    "\n",
    "price_per_cond"
   ]
  }
 ],
 "metadata": {
  "kernelspec": {
   "display_name": "Python 3",
   "language": "python",
   "name": "python3"
  },
  "language_info": {
   "codemirror_mode": {
    "name": "ipython",
    "version": 3
   },
   "file_extension": ".py",
   "mimetype": "text/x-python",
   "name": "python",
   "nbconvert_exporter": "python",
   "pygments_lexer": "ipython3",
   "version": "3.8.2"
  }
 },
 "nbformat": 4,
 "nbformat_minor": 2
}
